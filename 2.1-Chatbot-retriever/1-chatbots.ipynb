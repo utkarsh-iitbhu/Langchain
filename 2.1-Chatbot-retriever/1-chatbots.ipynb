{
 "cells": [
  {
   "cell_type": "markdown",
   "metadata": {},
   "source": [
    "## Building A Chatbot\n",
    "In this video We'll go over an example of how to design and implement an LLM-powered chatbot. This chatbot will be able to have a conversation and remember previous interactions.\n",
    "\n",
    "Note that this chatbot that we build will only use the language model to have a conversation. There are several other related concepts that you may be looking for:\n",
    "\n",
    "- Conversational RAG: Enable a chatbot experience over an external source of data\n",
    "- Agents: Build a chatbot that can take actions\n",
    "\n",
    "This video tutorial will cover the basics which will be helpful for those two more advanced topics."
   ]
  },
  {
   "cell_type": "code",
   "execution_count": 2,
   "metadata": {},
   "outputs": [],
   "source": [
    "import os\n",
    "from dotenv import load_dotenv\n",
    "load_dotenv() ## aloading all the enviro    nment variable\n",
    "\n",
    "groq_api_key=os.getenv(\"GROQ_API_KEY\")\n",
    "\n"
   ]
  },
  {
   "cell_type": "code",
   "execution_count": 3,
   "metadata": {},
   "outputs": [
    {
     "data": {
      "text/plain": [
       "ChatGroq(client=<groq.resources.chat.completions.Completions object at 0x0000026098EF2A40>, async_client=<groq.resources.chat.completions.AsyncCompletions object at 0x0000026098EF3700>, model_name='Gemma2-9b-It', groq_api_key=SecretStr('**********'))"
      ]
     },
     "execution_count": 3,
     "metadata": {},
     "output_type": "execute_result"
    }
   ],
   "source": [
    "from langchain_groq import ChatGroq\n",
    "model=ChatGroq(model=\"Gemma2-9b-It\",groq_api_key=groq_api_key)\n",
    "model"
   ]
  },
  {
   "cell_type": "code",
   "execution_count": 4,
   "metadata": {},
   "outputs": [
    {
     "data": {
      "text/plain": [
       "AIMessage(content=\"Hello Sahu, it's nice to meet you!\\n\\nIt's great to have a Chief Data Scientist on board.  What can I do for you today? Are you looking for help with a specific data science problem, or just want to chat about the field?\\n\\nI can assist with things like:\\n\\n* **Generating code:** I can write code in various programming languages, including Python and R, for data manipulation, analysis, and modeling.\\n* **Explaining concepts:**  I can explain data science concepts, algorithms, and techniques in a clear and concise way.\\n* **Brainstorming ideas:**  I can help you brainstorm new ideas for data science projects or solutions to existing problems.\\n* **Staying up-to-date:**  I can provide you with information on the latest trends and developments in the field of data science.\\n\\n\\nLet me know how I can be of service! \\n\\n\", response_metadata={'token_usage': {'completion_tokens': 191, 'prompt_tokens': 28, 'total_tokens': 219, 'completion_time': 0.400763872, 'prompt_time': 0.002615866, 'queue_time': None, 'total_time': 0.40337973800000004}, 'model_name': 'Gemma2-9b-It', 'system_fingerprint': 'fp_10c08bf97d', 'finish_reason': 'stop', 'logprobs': None}, id='run-2b36f291-5ea0-4827-8cdf-01d97995547e-0', usage_metadata={'input_tokens': 28, 'output_tokens': 191, 'total_tokens': 219})"
      ]
     },
     "execution_count": 4,
     "metadata": {},
     "output_type": "execute_result"
    }
   ],
   "source": [
    "from langchain_core.messages import HumanMessage\n",
    "model.invoke([HumanMessage(content=\"Hi , My name is Sahu and I am a Chief data Scientist\")])"
   ]
  },
  {
   "cell_type": "code",
   "execution_count": 5,
   "metadata": {},
   "outputs": [
    {
     "data": {
      "text/plain": [
       "AIMessage(content=\"You are Sahu, and you told me you are a Chief AI Engineer!  \\n\\nIs there anything else you'd like me to remember about you? 😊  Perhaps your favorite AI project or the company you work for?  The more I know, the better I can interact with you. \\n\\n\", response_metadata={'token_usage': {'completion_tokens': 65, 'prompt_tokens': 104, 'total_tokens': 169, 'completion_time': 0.1341055, 'prompt_time': 0.006431094, 'queue_time': None, 'total_time': 0.140536594}, 'model_name': 'Gemma2-9b-It', 'system_fingerprint': 'fp_10c08bf97d', 'finish_reason': 'stop', 'logprobs': None}, id='run-db336b32-10c6-4aad-bb24-6922b1a38b88-0', usage_metadata={'input_tokens': 104, 'output_tokens': 65, 'total_tokens': 169})"
      ]
     },
     "execution_count": 5,
     "metadata": {},
     "output_type": "execute_result"
    }
   ],
   "source": [
    "from langchain_core.messages import AIMessage\n",
    "# Passing set of human and AI messages in the form of list\n",
    "model.invoke(\n",
    "    [\n",
    "        HumanMessage(content=\"Hi , My name is Sahu and I am a Chief AI Engineer\"),\n",
    "        AIMessage(content=\"Hello Sahu! It's nice to meet you. \\n\\nAs a Chief AI Engineer, what kind of projects are you working on these days? \\n\\nI'm always eager to learn more about the exciting work being done in the field of AI.\\n\"),\n",
    "        HumanMessage(content=\"Hey What's my name and what do I do?\")\n",
    "    ]\n",
    ")"
   ]
  },
  {
   "cell_type": "markdown",
   "metadata": {},
   "source": [
    "### Message History\n",
    "We can use a Message History class to wrap our model and make it stateful. This will keep track of inputs and outputs of the model, and store them in some datastore. Future interactions will then load those messages and pass them into the chain as part of the input. Let's see how to use this!"
   ]
  },
  {
   "cell_type": "code",
   "execution_count": 6,
   "metadata": {},
   "outputs": [],
   "source": [
    "# !pip install langchain_community"
   ]
  },
  {
   "cell_type": "code",
   "execution_count": 7,
   "metadata": {},
   "outputs": [],
   "source": [
    "# Chat message history\n",
    "from langchain_community.chat_message_histories import ChatMessageHistory\n",
    "from langchain_core.chat_history import BaseChatMessageHistory \n",
    "from langchain_core.runnables.history import RunnableWithMessageHistory # For chains"
   ]
  },
  {
   "cell_type": "code",
   "execution_count": 12,
   "metadata": {},
   "outputs": [],
   "source": [
    "store={} # To store the session_id\n",
    "# To separate the sessions from one another\n",
    "# We have input for as the session_id: str for individual chat\n",
    "# It will return a BaseChatHistory  \n",
    "def get_session_history(session_id:str)->BaseChatMessageHistory:\n",
    "    print(\"Store: \",store)\n",
    "    if session_id not in store:\n",
    "        store[session_id]=ChatMessageHistory() # Chat should go in the session_id\n",
    "    return store[session_id]\n"
   ]
  },
  {
   "cell_type": "code",
   "execution_count": 13,
   "metadata": {},
   "outputs": [
    {
     "data": {
      "text/plain": [
       "RunnableWithMessageHistory(bound=RunnableBinding(bound=RunnableBinding(bound=RunnableLambda(_enter_history), config={'run_name': 'load_history'})\n",
       "| RunnableBranch(branches=[(RunnableBinding(bound=RunnableLambda(_is_not_async), config={'run_name': 'RunnableWithMessageHistoryInAsyncMode'}), RunnableBinding(bound=ChatGroq(client=<groq.resources.chat.completions.Completions object at 0x0000026098EF2A40>, async_client=<groq.resources.chat.completions.AsyncCompletions object at 0x0000026098EF3700>, model_name='Gemma2-9b-It', groq_api_key=SecretStr('**********')), config_factories=[<function Runnable.with_alisteners.<locals>.<lambda> at 0x00000260990D0940>]))], default=RunnableBinding(bound=ChatGroq(client=<groq.resources.chat.completions.Completions object at 0x0000026098EF2A40>, async_client=<groq.resources.chat.completions.AsyncCompletions object at 0x0000026098EF3700>, model_name='Gemma2-9b-It', groq_api_key=SecretStr('**********')), config_factories=[<function Runnable.with_listeners.<locals>.<lambda> at 0x00000260990D08B0>])), config={'run_name': 'RunnableWithMessageHistory'}), get_session_history=<function get_session_history at 0x0000026098F01B40>, history_factory_config=[ConfigurableFieldSpec(id='session_id', annotation=<class 'str'>, name='Session ID', description='Unique identifier for a session.', default='', is_shared=True, dependencies=None)])"
      ]
     },
     "execution_count": 13,
     "metadata": {},
     "output_type": "execute_result"
    }
   ],
   "source": [
    "with_message_history=RunnableWithMessageHistory(model,get_session_history)\n",
    "with_message_history"
   ]
  },
  {
   "cell_type": "code",
   "execution_count": 14,
   "metadata": {},
   "outputs": [],
   "source": [
    "config={\"configurable\":{\"session_id\":\"chat1\"}} # Giving our own session_id but not required"
   ]
  },
  {
   "cell_type": "code",
   "execution_count": 15,
   "metadata": {},
   "outputs": [
    {
     "name": "stderr",
     "output_type": "stream",
     "text": [
      "Error in RootListenersTracer.on_chain_end callback: ValueError()\n",
      "Error in callback coroutine: ValueError()\n"
     ]
    },
    {
     "name": "stdout",
     "output_type": "stream",
     "text": [
      "Store:  {}\n"
     ]
    }
   ],
   "source": [
    "response=with_message_history.invoke(\n",
    "    [HumanMessage(content=\"Hi , My name is Sahu and I am a Chief AI Engineer\")],\n",
    "    config=config # passing the config for given session_id of chat1\n",
    ")"
   ]
  },
  {
   "cell_type": "code",
   "execution_count": 18,
   "metadata": {},
   "outputs": [
    {
     "data": {
      "text/plain": [
       "\"Hello Sahu,\\n\\nIt's nice to meet you! Being a Chief AI Engineer is a fascinating role. What kind of projects are you currently working on? \\n\\nI'm eager to learn more about your work in the field of AI.\\n\""
      ]
     },
     "execution_count": 18,
     "metadata": {},
     "output_type": "execute_result"
    }
   ],
   "source": [
    "response.content"
   ]
  },
  {
   "cell_type": "code",
   "execution_count": 16,
   "metadata": {},
   "outputs": [
    {
     "name": "stderr",
     "output_type": "stream",
     "text": [
      "Error in RootListenersTracer.on_chain_end callback: ValueError()\n",
      "Error in callback coroutine: ValueError()\n"
     ]
    },
    {
     "name": "stdout",
     "output_type": "stream",
     "text": [
      "Store:  {'chat1': InMemoryChatMessageHistory(messages=[HumanMessage(content='Hi , My name is Sahu and I am a Chief AI Engineer'), AIMessage(content=\"Hello Sahu,\\n\\nIt's nice to meet you! Being a Chief AI Engineer is a fascinating role. What kind of projects are you currently working on? \\n\\nI'm eager to learn more about your work in the field of AI.\\n\", response_metadata={'token_usage': {'completion_tokens': 54, 'prompt_tokens': 28, 'total_tokens': 82, 'completion_time': 0.111580355, 'prompt_time': 0.00265645, 'queue_time': None, 'total_time': 0.11423680500000001}, 'model_name': 'Gemma2-9b-It', 'system_fingerprint': 'fp_10c08bf97d', 'finish_reason': 'stop', 'logprobs': None}, id='run-bed19a4c-7b27-4196-ba58-d590162dd53c-0', usage_metadata={'input_tokens': 28, 'output_tokens': 54, 'total_tokens': 82})])}\n"
     ]
    },
    {
     "data": {
      "text/plain": [
       "AIMessage(content='Your name is Sahu. 😊  \\n\\nYou told me at the beginning of our conversation!  \\n\\nIs there anything else I can help you with?\\n', response_metadata={'token_usage': {'completion_tokens': 34, 'prompt_tokens': 96, 'total_tokens': 130, 'completion_time': 0.069427948, 'prompt_time': 0.004551999, 'queue_time': None, 'total_time': 0.073979947}, 'model_name': 'Gemma2-9b-It', 'system_fingerprint': 'fp_10c08bf97d', 'finish_reason': 'stop', 'logprobs': None}, id='run-9f735a24-8f85-402a-b001-9cd219e31e6e-0', usage_metadata={'input_tokens': 96, 'output_tokens': 34, 'total_tokens': 130})"
      ]
     },
     "execution_count": 16,
     "metadata": {},
     "output_type": "execute_result"
    }
   ],
   "source": [
    "with_message_history.invoke(\n",
    "    [HumanMessage(content=\"What's my name?\")],\n",
    "    config=config,\n",
    ")"
   ]
  },
  {
   "cell_type": "code",
   "execution_count": 17,
   "metadata": {},
   "outputs": [
    {
     "name": "stderr",
     "output_type": "stream",
     "text": [
      "Error in RootListenersTracer.on_chain_end callback: ValueError()\n",
      "Error in callback coroutine: ValueError()\n"
     ]
    },
    {
     "name": "stdout",
     "output_type": "stream",
     "text": [
      "Store:  {'chat1': InMemoryChatMessageHistory(messages=[HumanMessage(content='Hi , My name is Sahu and I am a Chief AI Engineer'), AIMessage(content=\"Hello Sahu,\\n\\nIt's nice to meet you! Being a Chief AI Engineer is a fascinating role. What kind of projects are you currently working on? \\n\\nI'm eager to learn more about your work in the field of AI.\\n\", response_metadata={'token_usage': {'completion_tokens': 54, 'prompt_tokens': 28, 'total_tokens': 82, 'completion_time': 0.111580355, 'prompt_time': 0.00265645, 'queue_time': None, 'total_time': 0.11423680500000001}, 'model_name': 'Gemma2-9b-It', 'system_fingerprint': 'fp_10c08bf97d', 'finish_reason': 'stop', 'logprobs': None}, id='run-bed19a4c-7b27-4196-ba58-d590162dd53c-0', usage_metadata={'input_tokens': 28, 'output_tokens': 54, 'total_tokens': 82}), HumanMessage(content=\"What's my name?\"), AIMessage(content='Your name is Sahu. 😊  \\n\\nYou told me at the beginning of our conversation!  \\n\\nIs there anything else I can help you with?\\n', response_metadata={'token_usage': {'completion_tokens': 34, 'prompt_tokens': 96, 'total_tokens': 130, 'completion_time': 0.069427948, 'prompt_time': 0.004551999, 'queue_time': None, 'total_time': 0.073979947}, 'model_name': 'Gemma2-9b-It', 'system_fingerprint': 'fp_10c08bf97d', 'finish_reason': 'stop', 'logprobs': None}, id='run-9f735a24-8f85-402a-b001-9cd219e31e6e-0', usage_metadata={'input_tokens': 96, 'output_tokens': 34, 'total_tokens': 130})])}\n"
     ]
    },
    {
     "data": {
      "text/plain": [
       "AIMessage(content='You said you are a Chief AI Engineer.  \\n\\nIs there anything else I can help you with regarding your work or anything else at all?\\n', response_metadata={'token_usage': {'completion_tokens': 32, 'prompt_tokens': 144, 'total_tokens': 176, 'completion_time': 0.06538629, 'prompt_time': 0.007101069, 'queue_time': None, 'total_time': 0.072487359}, 'model_name': 'Gemma2-9b-It', 'system_fingerprint': 'fp_10c08bf97d', 'finish_reason': 'stop', 'logprobs': None}, id='run-13ef99cd-521c-4233-b33e-d988434f4114-0', usage_metadata={'input_tokens': 144, 'output_tokens': 32, 'total_tokens': 176})"
      ]
     },
     "execution_count": 17,
     "metadata": {},
     "output_type": "execute_result"
    }
   ],
   "source": [
    "with_message_history.invoke(\n",
    "    [HumanMessage(content=\"What's my job?\")],\n",
    "    config=config,\n",
    ")"
   ]
  },
  {
   "cell_type": "code",
   "execution_count": 19,
   "metadata": {},
   "outputs": [
    {
     "name": "stdout",
     "output_type": "stream",
     "text": [
      "Store:  {'chat1': InMemoryChatMessageHistory(messages=[HumanMessage(content='Hi , My name is Sahu and I am a Chief AI Engineer'), AIMessage(content=\"Hello Sahu,\\n\\nIt's nice to meet you! Being a Chief AI Engineer is a fascinating role. What kind of projects are you currently working on? \\n\\nI'm eager to learn more about your work in the field of AI.\\n\", response_metadata={'token_usage': {'completion_tokens': 54, 'prompt_tokens': 28, 'total_tokens': 82, 'completion_time': 0.111580355, 'prompt_time': 0.00265645, 'queue_time': None, 'total_time': 0.11423680500000001}, 'model_name': 'Gemma2-9b-It', 'system_fingerprint': 'fp_10c08bf97d', 'finish_reason': 'stop', 'logprobs': None}, id='run-bed19a4c-7b27-4196-ba58-d590162dd53c-0', usage_metadata={'input_tokens': 28, 'output_tokens': 54, 'total_tokens': 82}), HumanMessage(content=\"What's my name?\"), AIMessage(content='Your name is Sahu. 😊  \\n\\nYou told me at the beginning of our conversation!  \\n\\nIs there anything else I can help you with?\\n', response_metadata={'token_usage': {'completion_tokens': 34, 'prompt_tokens': 96, 'total_tokens': 130, 'completion_time': 0.069427948, 'prompt_time': 0.004551999, 'queue_time': None, 'total_time': 0.073979947}, 'model_name': 'Gemma2-9b-It', 'system_fingerprint': 'fp_10c08bf97d', 'finish_reason': 'stop', 'logprobs': None}, id='run-9f735a24-8f85-402a-b001-9cd219e31e6e-0', usage_metadata={'input_tokens': 96, 'output_tokens': 34, 'total_tokens': 130}), HumanMessage(content=\"What's my job?\"), AIMessage(content='You said you are a Chief AI Engineer.  \\n\\nIs there anything else I can help you with regarding your work or anything else at all?\\n', response_metadata={'token_usage': {'completion_tokens': 32, 'prompt_tokens': 144, 'total_tokens': 176, 'completion_time': 0.06538629, 'prompt_time': 0.007101069, 'queue_time': None, 'total_time': 0.072487359}, 'model_name': 'Gemma2-9b-It', 'system_fingerprint': 'fp_10c08bf97d', 'finish_reason': 'stop', 'logprobs': None}, id='run-13ef99cd-521c-4233-b33e-d988434f4114-0', usage_metadata={'input_tokens': 144, 'output_tokens': 32, 'total_tokens': 176})])}\n"
     ]
    },
    {
     "name": "stderr",
     "output_type": "stream",
     "text": [
      "Error in RootListenersTracer.on_chain_end callback: ValueError()\n",
      "Error in callback coroutine: ValueError()\n"
     ]
    },
    {
     "data": {
      "text/plain": [
       "'As an AI, I have no memory of past conversations and do not know your name. Please tell me your name so I can address you properly.\\n'"
      ]
     },
     "execution_count": 19,
     "metadata": {},
     "output_type": "execute_result"
    }
   ],
   "source": [
    "## change the config-->session id\n",
    "config1={\"configurable\":{\"session_id\":\"chat2\"}}\n",
    "response=with_message_history.invoke(\n",
    "    [HumanMessage(content=\"Whats my name\")],\n",
    "    config=config1\n",
    ")\n",
    "response.content"
   ]
  },
  {
   "cell_type": "code",
   "execution_count": 20,
   "metadata": {},
   "outputs": [
    {
     "name": "stdout",
     "output_type": "stream",
     "text": [
      "Store:  {'chat1': InMemoryChatMessageHistory(messages=[HumanMessage(content='Hi , My name is Sahu and I am a Chief AI Engineer'), AIMessage(content=\"Hello Sahu,\\n\\nIt's nice to meet you! Being a Chief AI Engineer is a fascinating role. What kind of projects are you currently working on? \\n\\nI'm eager to learn more about your work in the field of AI.\\n\", response_metadata={'token_usage': {'completion_tokens': 54, 'prompt_tokens': 28, 'total_tokens': 82, 'completion_time': 0.111580355, 'prompt_time': 0.00265645, 'queue_time': None, 'total_time': 0.11423680500000001}, 'model_name': 'Gemma2-9b-It', 'system_fingerprint': 'fp_10c08bf97d', 'finish_reason': 'stop', 'logprobs': None}, id='run-bed19a4c-7b27-4196-ba58-d590162dd53c-0', usage_metadata={'input_tokens': 28, 'output_tokens': 54, 'total_tokens': 82}), HumanMessage(content=\"What's my name?\"), AIMessage(content='Your name is Sahu. 😊  \\n\\nYou told me at the beginning of our conversation!  \\n\\nIs there anything else I can help you with?\\n', response_metadata={'token_usage': {'completion_tokens': 34, 'prompt_tokens': 96, 'total_tokens': 130, 'completion_time': 0.069427948, 'prompt_time': 0.004551999, 'queue_time': None, 'total_time': 0.073979947}, 'model_name': 'Gemma2-9b-It', 'system_fingerprint': 'fp_10c08bf97d', 'finish_reason': 'stop', 'logprobs': None}, id='run-9f735a24-8f85-402a-b001-9cd219e31e6e-0', usage_metadata={'input_tokens': 96, 'output_tokens': 34, 'total_tokens': 130}), HumanMessage(content=\"What's my job?\"), AIMessage(content='You said you are a Chief AI Engineer.  \\n\\nIs there anything else I can help you with regarding your work or anything else at all?\\n', response_metadata={'token_usage': {'completion_tokens': 32, 'prompt_tokens': 144, 'total_tokens': 176, 'completion_time': 0.06538629, 'prompt_time': 0.007101069, 'queue_time': None, 'total_time': 0.072487359}, 'model_name': 'Gemma2-9b-It', 'system_fingerprint': 'fp_10c08bf97d', 'finish_reason': 'stop', 'logprobs': None}, id='run-13ef99cd-521c-4233-b33e-d988434f4114-0', usage_metadata={'input_tokens': 144, 'output_tokens': 32, 'total_tokens': 176})]), 'chat2': InMemoryChatMessageHistory(messages=[HumanMessage(content='Whats my name'), AIMessage(content='As an AI, I have no memory of past conversations and do not know your name. Please tell me your name so I can address you properly.\\n', response_metadata={'token_usage': {'completion_tokens': 33, 'prompt_tokens': 17, 'total_tokens': 50, 'completion_time': 0.067334561, 'prompt_time': 0.00252252, 'queue_time': None, 'total_time': 0.069857081}, 'model_name': 'Gemma2-9b-It', 'system_fingerprint': 'fp_10c08bf97d', 'finish_reason': 'stop', 'logprobs': None}, id='run-e8da4bac-4f07-4623-88c5-0c7a2a7f237a-0', usage_metadata={'input_tokens': 17, 'output_tokens': 33, 'total_tokens': 50})])}\n"
     ]
    },
    {
     "name": "stderr",
     "output_type": "stream",
     "text": [
      "Error in RootListenersTracer.on_chain_end callback: ValueError()\n",
      "Error in callback coroutine: ValueError()\n"
     ]
    },
    {
     "data": {
      "text/plain": [
       "\"Hello Sahu! It's nice to meet you. \\n\\nWhat can I do for you today? 😊  \\n\\n\""
      ]
     },
     "execution_count": 20,
     "metadata": {},
     "output_type": "execute_result"
    }
   ],
   "source": [
    "response=with_message_history.invoke(\n",
    "    [HumanMessage(content=\"Hey My name is Sahu\")],\n",
    "    config=config1\n",
    ")\n",
    "response.content"
   ]
  },
  {
   "cell_type": "code",
   "execution_count": 21,
   "metadata": {},
   "outputs": [
    {
     "name": "stderr",
     "output_type": "stream",
     "text": [
      "Error in RootListenersTracer.on_chain_end callback: ValueError()\n"
     ]
    },
    {
     "name": "stdout",
     "output_type": "stream",
     "text": [
      "Store:  {'chat1': InMemoryChatMessageHistory(messages=[HumanMessage(content='Hi , My name is Sahu and I am a Chief AI Engineer'), AIMessage(content=\"Hello Sahu,\\n\\nIt's nice to meet you! Being a Chief AI Engineer is a fascinating role. What kind of projects are you currently working on? \\n\\nI'm eager to learn more about your work in the field of AI.\\n\", response_metadata={'token_usage': {'completion_tokens': 54, 'prompt_tokens': 28, 'total_tokens': 82, 'completion_time': 0.111580355, 'prompt_time': 0.00265645, 'queue_time': None, 'total_time': 0.11423680500000001}, 'model_name': 'Gemma2-9b-It', 'system_fingerprint': 'fp_10c08bf97d', 'finish_reason': 'stop', 'logprobs': None}, id='run-bed19a4c-7b27-4196-ba58-d590162dd53c-0', usage_metadata={'input_tokens': 28, 'output_tokens': 54, 'total_tokens': 82}), HumanMessage(content=\"What's my name?\"), AIMessage(content='Your name is Sahu. 😊  \\n\\nYou told me at the beginning of our conversation!  \\n\\nIs there anything else I can help you with?\\n', response_metadata={'token_usage': {'completion_tokens': 34, 'prompt_tokens': 96, 'total_tokens': 130, 'completion_time': 0.069427948, 'prompt_time': 0.004551999, 'queue_time': None, 'total_time': 0.073979947}, 'model_name': 'Gemma2-9b-It', 'system_fingerprint': 'fp_10c08bf97d', 'finish_reason': 'stop', 'logprobs': None}, id='run-9f735a24-8f85-402a-b001-9cd219e31e6e-0', usage_metadata={'input_tokens': 96, 'output_tokens': 34, 'total_tokens': 130}), HumanMessage(content=\"What's my job?\"), AIMessage(content='You said you are a Chief AI Engineer.  \\n\\nIs there anything else I can help you with regarding your work or anything else at all?\\n', response_metadata={'token_usage': {'completion_tokens': 32, 'prompt_tokens': 144, 'total_tokens': 176, 'completion_time': 0.06538629, 'prompt_time': 0.007101069, 'queue_time': None, 'total_time': 0.072487359}, 'model_name': 'Gemma2-9b-It', 'system_fingerprint': 'fp_10c08bf97d', 'finish_reason': 'stop', 'logprobs': None}, id='run-13ef99cd-521c-4233-b33e-d988434f4114-0', usage_metadata={'input_tokens': 144, 'output_tokens': 32, 'total_tokens': 176})]), 'chat2': InMemoryChatMessageHistory(messages=[HumanMessage(content='Whats my name'), AIMessage(content='As an AI, I have no memory of past conversations and do not know your name. Please tell me your name so I can address you properly.\\n', response_metadata={'token_usage': {'completion_tokens': 33, 'prompt_tokens': 17, 'total_tokens': 50, 'completion_time': 0.067334561, 'prompt_time': 0.00252252, 'queue_time': None, 'total_time': 0.069857081}, 'model_name': 'Gemma2-9b-It', 'system_fingerprint': 'fp_10c08bf97d', 'finish_reason': 'stop', 'logprobs': None}, id='run-e8da4bac-4f07-4623-88c5-0c7a2a7f237a-0', usage_metadata={'input_tokens': 17, 'output_tokens': 33, 'total_tokens': 50}), HumanMessage(content='Hey My name is Sahu'), AIMessage(content=\"Hello Sahu! It's nice to meet you. \\n\\nWhat can I do for you today? 😊  \\n\\n\", response_metadata={'token_usage': {'completion_tokens': 28, 'prompt_tokens': 64, 'total_tokens': 92, 'completion_time': 0.056971412, 'prompt_time': 0.00414934, 'queue_time': None, 'total_time': 0.061120752}, 'model_name': 'Gemma2-9b-It', 'system_fingerprint': 'fp_10c08bf97d', 'finish_reason': 'stop', 'logprobs': None}, id='run-52782e77-f8b8-464b-a172-629bde1ac35f-0', usage_metadata={'input_tokens': 64, 'output_tokens': 28, 'total_tokens': 92})])}\n"
     ]
    },
    {
     "name": "stderr",
     "output_type": "stream",
     "text": [
      "Error in callback coroutine: ValueError()\n"
     ]
    },
    {
     "data": {
      "text/plain": [
       "'Your name is Sahu!  \\n\\nI remember that you told me earlier. 😄  How can I help you further?\\n'"
      ]
     },
     "execution_count": 21,
     "metadata": {},
     "output_type": "execute_result"
    }
   ],
   "source": [
    "response=with_message_history.invoke(\n",
    "    [HumanMessage(content=\"Whats my name\")],\n",
    "    config=config1\n",
    ")\n",
    "response.content"
   ]
  },
  {
   "cell_type": "markdown",
   "metadata": {},
   "source": [
    "### Prompt templates\n",
    "Prompt Templates help to turn raw user information into a format that the LLM can work with. In this case, the raw user input is just a message, which we are passing to the LLM. Let's now make that a bit more complicated. First, let's add in a system message with some custom instructions (but still taking messages as input). Next, we'll add in more input besides just the messages."
   ]
  },
  {
   "cell_type": "code",
   "execution_count": 22,
   "metadata": {},
   "outputs": [],
   "source": [
    "from langchain_core.prompts import ChatPromptTemplate,MessagesPlaceholder\n",
    "prompt=ChatPromptTemplate.from_messages(\n",
    "    [\n",
    "        (\"system\",\"You are a helpful assistant. Answer all the question to the nest of your ability\"),\n",
    "        # Now while passing the message we need to give it ina key value pair\n",
    "        MessagesPlaceholder(variable_name=\"messages\") # Key: is messages\n",
    "    ]\n",
    ")\n",
    "\n",
    "chain=prompt|model"
   ]
  },
  {
   "cell_type": "code",
   "execution_count": 23,
   "metadata": {},
   "outputs": [
    {
     "data": {
      "text/plain": [
       "AIMessage(content=\"Hi Sahu, it's nice to meet you! 👋 \\n\\nWhat can I do for you today? 😊  \\n\", response_metadata={'token_usage': {'completion_tokens': 28, 'prompt_tokens': 36, 'total_tokens': 64, 'completion_time': 0.056709443, 'prompt_time': 0.00265473, 'queue_time': None, 'total_time': 0.059364173}, 'model_name': 'Gemma2-9b-It', 'system_fingerprint': 'fp_10c08bf97d', 'finish_reason': 'stop', 'logprobs': None}, id='run-03ef1e57-de0e-41d0-bcf6-f73e2aa0a67d-0', usage_metadata={'input_tokens': 36, 'output_tokens': 28, 'total_tokens': 64})"
      ]
     },
     "execution_count": 23,
     "metadata": {},
     "output_type": "execute_result"
    }
   ],
   "source": [
    "# Passing the human message in the form of dictionary\n",
    "chain.invoke({\"messages\":[HumanMessage(content=\"Hi My name is Sahu\")]})"
   ]
  },
  {
   "cell_type": "code",
   "execution_count": 25,
   "metadata": {},
   "outputs": [],
   "source": [
    "# This will create message history\n",
    "with_message_history=RunnableWithMessageHistory(chain,get_session_history)"
   ]
  },
  {
   "cell_type": "code",
   "execution_count": 26,
   "metadata": {},
   "outputs": [
    {
     "name": "stdout",
     "output_type": "stream",
     "text": [
      "Store:  {'chat1': InMemoryChatMessageHistory(messages=[HumanMessage(content='Hi , My name is Sahu and I am a Chief AI Engineer'), AIMessage(content=\"Hello Sahu,\\n\\nIt's nice to meet you! Being a Chief AI Engineer is a fascinating role. What kind of projects are you currently working on? \\n\\nI'm eager to learn more about your work in the field of AI.\\n\", response_metadata={'token_usage': {'completion_tokens': 54, 'prompt_tokens': 28, 'total_tokens': 82, 'completion_time': 0.111580355, 'prompt_time': 0.00265645, 'queue_time': None, 'total_time': 0.11423680500000001}, 'model_name': 'Gemma2-9b-It', 'system_fingerprint': 'fp_10c08bf97d', 'finish_reason': 'stop', 'logprobs': None}, id='run-bed19a4c-7b27-4196-ba58-d590162dd53c-0', usage_metadata={'input_tokens': 28, 'output_tokens': 54, 'total_tokens': 82}), HumanMessage(content=\"What's my name?\"), AIMessage(content='Your name is Sahu. 😊  \\n\\nYou told me at the beginning of our conversation!  \\n\\nIs there anything else I can help you with?\\n', response_metadata={'token_usage': {'completion_tokens': 34, 'prompt_tokens': 96, 'total_tokens': 130, 'completion_time': 0.069427948, 'prompt_time': 0.004551999, 'queue_time': None, 'total_time': 0.073979947}, 'model_name': 'Gemma2-9b-It', 'system_fingerprint': 'fp_10c08bf97d', 'finish_reason': 'stop', 'logprobs': None}, id='run-9f735a24-8f85-402a-b001-9cd219e31e6e-0', usage_metadata={'input_tokens': 96, 'output_tokens': 34, 'total_tokens': 130}), HumanMessage(content=\"What's my job?\"), AIMessage(content='You said you are a Chief AI Engineer.  \\n\\nIs there anything else I can help you with regarding your work or anything else at all?\\n', response_metadata={'token_usage': {'completion_tokens': 32, 'prompt_tokens': 144, 'total_tokens': 176, 'completion_time': 0.06538629, 'prompt_time': 0.007101069, 'queue_time': None, 'total_time': 0.072487359}, 'model_name': 'Gemma2-9b-It', 'system_fingerprint': 'fp_10c08bf97d', 'finish_reason': 'stop', 'logprobs': None}, id='run-13ef99cd-521c-4233-b33e-d988434f4114-0', usage_metadata={'input_tokens': 144, 'output_tokens': 32, 'total_tokens': 176})]), 'chat2': InMemoryChatMessageHistory(messages=[HumanMessage(content='Whats my name'), AIMessage(content='As an AI, I have no memory of past conversations and do not know your name. Please tell me your name so I can address you properly.\\n', response_metadata={'token_usage': {'completion_tokens': 33, 'prompt_tokens': 17, 'total_tokens': 50, 'completion_time': 0.067334561, 'prompt_time': 0.00252252, 'queue_time': None, 'total_time': 0.069857081}, 'model_name': 'Gemma2-9b-It', 'system_fingerprint': 'fp_10c08bf97d', 'finish_reason': 'stop', 'logprobs': None}, id='run-e8da4bac-4f07-4623-88c5-0c7a2a7f237a-0', usage_metadata={'input_tokens': 17, 'output_tokens': 33, 'total_tokens': 50}), HumanMessage(content='Hey My name is Sahu'), AIMessage(content=\"Hello Sahu! It's nice to meet you. \\n\\nWhat can I do for you today? 😊  \\n\\n\", response_metadata={'token_usage': {'completion_tokens': 28, 'prompt_tokens': 64, 'total_tokens': 92, 'completion_time': 0.056971412, 'prompt_time': 0.00414934, 'queue_time': None, 'total_time': 0.061120752}, 'model_name': 'Gemma2-9b-It', 'system_fingerprint': 'fp_10c08bf97d', 'finish_reason': 'stop', 'logprobs': None}, id='run-52782e77-f8b8-464b-a172-629bde1ac35f-0', usage_metadata={'input_tokens': 64, 'output_tokens': 28, 'total_tokens': 92}), HumanMessage(content='Whats my name'), AIMessage(content='Your name is Sahu!  \\n\\nI remember that you told me earlier. 😄  How can I help you further?\\n', response_metadata={'token_usage': {'completion_tokens': 28, 'prompt_tokens': 102, 'total_tokens': 130, 'completion_time': 0.056770534, 'prompt_time': 0.005050849, 'queue_time': None, 'total_time': 0.061821382999999994}, 'model_name': 'Gemma2-9b-It', 'system_fingerprint': 'fp_10c08bf97d', 'finish_reason': 'stop', 'logprobs': None}, id='run-5ec1f1ce-ca48-4a31-a780-f126fa5fef34-0', usage_metadata={'input_tokens': 102, 'output_tokens': 28, 'total_tokens': 130})])}\n"
     ]
    },
    {
     "name": "stderr",
     "output_type": "stream",
     "text": [
      "Error in RootListenersTracer.on_chain_end callback: ValueError()\n",
      "Error in callback coroutine: ValueError()\n"
     ]
    },
    {
     "data": {
      "text/plain": [
       "AIMessage(content=\"Hello Sahu, it's nice to meet you! 👋\\n\\nIs there anything I can help you with today? 😊  \\n\\n\", response_metadata={'token_usage': {'completion_tokens': 30, 'prompt_tokens': 36, 'total_tokens': 66, 'completion_time': 0.060593562, 'prompt_time': 0.002587263, 'queue_time': None, 'total_time': 0.063180825}, 'model_name': 'Gemma2-9b-It', 'system_fingerprint': 'fp_10c08bf97d', 'finish_reason': 'stop', 'logprobs': None}, id='run-e87a44d4-4fc3-4e36-90b1-d5d0368c9b12-0', usage_metadata={'input_tokens': 36, 'output_tokens': 30, 'total_tokens': 66})"
      ]
     },
     "execution_count": 26,
     "metadata": {},
     "output_type": "execute_result"
    }
   ],
   "source": [
    "config = {\"configurable\": {\"session_id\": \"chat3\"}}\n",
    "response=with_message_history.invoke(\n",
    "    [HumanMessage(content=\"Hi My name is Sahu\")],\n",
    "    config=config\n",
    ")\n",
    "\n",
    "response"
   ]
  },
  {
   "cell_type": "code",
   "execution_count": 27,
   "metadata": {},
   "outputs": [
    {
     "name": "stdout",
     "output_type": "stream",
     "text": [
      "Store:  {'chat1': InMemoryChatMessageHistory(messages=[HumanMessage(content='Hi , My name is Sahu and I am a Chief AI Engineer'), AIMessage(content=\"Hello Sahu,\\n\\nIt's nice to meet you! Being a Chief AI Engineer is a fascinating role. What kind of projects are you currently working on? \\n\\nI'm eager to learn more about your work in the field of AI.\\n\", response_metadata={'token_usage': {'completion_tokens': 54, 'prompt_tokens': 28, 'total_tokens': 82, 'completion_time': 0.111580355, 'prompt_time': 0.00265645, 'queue_time': None, 'total_time': 0.11423680500000001}, 'model_name': 'Gemma2-9b-It', 'system_fingerprint': 'fp_10c08bf97d', 'finish_reason': 'stop', 'logprobs': None}, id='run-bed19a4c-7b27-4196-ba58-d590162dd53c-0', usage_metadata={'input_tokens': 28, 'output_tokens': 54, 'total_tokens': 82}), HumanMessage(content=\"What's my name?\"), AIMessage(content='Your name is Sahu. 😊  \\n\\nYou told me at the beginning of our conversation!  \\n\\nIs there anything else I can help you with?\\n', response_metadata={'token_usage': {'completion_tokens': 34, 'prompt_tokens': 96, 'total_tokens': 130, 'completion_time': 0.069427948, 'prompt_time': 0.004551999, 'queue_time': None, 'total_time': 0.073979947}, 'model_name': 'Gemma2-9b-It', 'system_fingerprint': 'fp_10c08bf97d', 'finish_reason': 'stop', 'logprobs': None}, id='run-9f735a24-8f85-402a-b001-9cd219e31e6e-0', usage_metadata={'input_tokens': 96, 'output_tokens': 34, 'total_tokens': 130}), HumanMessage(content=\"What's my job?\"), AIMessage(content='You said you are a Chief AI Engineer.  \\n\\nIs there anything else I can help you with regarding your work or anything else at all?\\n', response_metadata={'token_usage': {'completion_tokens': 32, 'prompt_tokens': 144, 'total_tokens': 176, 'completion_time': 0.06538629, 'prompt_time': 0.007101069, 'queue_time': None, 'total_time': 0.072487359}, 'model_name': 'Gemma2-9b-It', 'system_fingerprint': 'fp_10c08bf97d', 'finish_reason': 'stop', 'logprobs': None}, id='run-13ef99cd-521c-4233-b33e-d988434f4114-0', usage_metadata={'input_tokens': 144, 'output_tokens': 32, 'total_tokens': 176})]), 'chat2': InMemoryChatMessageHistory(messages=[HumanMessage(content='Whats my name'), AIMessage(content='As an AI, I have no memory of past conversations and do not know your name. Please tell me your name so I can address you properly.\\n', response_metadata={'token_usage': {'completion_tokens': 33, 'prompt_tokens': 17, 'total_tokens': 50, 'completion_time': 0.067334561, 'prompt_time': 0.00252252, 'queue_time': None, 'total_time': 0.069857081}, 'model_name': 'Gemma2-9b-It', 'system_fingerprint': 'fp_10c08bf97d', 'finish_reason': 'stop', 'logprobs': None}, id='run-e8da4bac-4f07-4623-88c5-0c7a2a7f237a-0', usage_metadata={'input_tokens': 17, 'output_tokens': 33, 'total_tokens': 50}), HumanMessage(content='Hey My name is Sahu'), AIMessage(content=\"Hello Sahu! It's nice to meet you. \\n\\nWhat can I do for you today? 😊  \\n\\n\", response_metadata={'token_usage': {'completion_tokens': 28, 'prompt_tokens': 64, 'total_tokens': 92, 'completion_time': 0.056971412, 'prompt_time': 0.00414934, 'queue_time': None, 'total_time': 0.061120752}, 'model_name': 'Gemma2-9b-It', 'system_fingerprint': 'fp_10c08bf97d', 'finish_reason': 'stop', 'logprobs': None}, id='run-52782e77-f8b8-464b-a172-629bde1ac35f-0', usage_metadata={'input_tokens': 64, 'output_tokens': 28, 'total_tokens': 92}), HumanMessage(content='Whats my name'), AIMessage(content='Your name is Sahu!  \\n\\nI remember that you told me earlier. 😄  How can I help you further?\\n', response_metadata={'token_usage': {'completion_tokens': 28, 'prompt_tokens': 102, 'total_tokens': 130, 'completion_time': 0.056770534, 'prompt_time': 0.005050849, 'queue_time': None, 'total_time': 0.061821382999999994}, 'model_name': 'Gemma2-9b-It', 'system_fingerprint': 'fp_10c08bf97d', 'finish_reason': 'stop', 'logprobs': None}, id='run-5ec1f1ce-ca48-4a31-a780-f126fa5fef34-0', usage_metadata={'input_tokens': 102, 'output_tokens': 28, 'total_tokens': 130})]), 'chat3': InMemoryChatMessageHistory(messages=[HumanMessage(content='Hi My name is Sahu'), AIMessage(content=\"Hello Sahu, it's nice to meet you! 👋\\n\\nIs there anything I can help you with today? 😊  \\n\\n\", response_metadata={'token_usage': {'completion_tokens': 30, 'prompt_tokens': 36, 'total_tokens': 66, 'completion_time': 0.060593562, 'prompt_time': 0.002587263, 'queue_time': None, 'total_time': 0.063180825}, 'model_name': 'Gemma2-9b-It', 'system_fingerprint': 'fp_10c08bf97d', 'finish_reason': 'stop', 'logprobs': None}, id='run-e87a44d4-4fc3-4e36-90b1-d5d0368c9b12-0', usage_metadata={'input_tokens': 36, 'output_tokens': 30, 'total_tokens': 66})])}\n"
     ]
    },
    {
     "name": "stderr",
     "output_type": "stream",
     "text": [
      "Error in RootListenersTracer.on_chain_end callback: ValueError()\n",
      "Error in callback coroutine: ValueError()\n"
     ]
    },
    {
     "data": {
      "text/plain": [
       "'Your name is Sahu.  😊 \\n\\nI remember!  How can I help you further?\\n'"
      ]
     },
     "execution_count": 27,
     "metadata": {},
     "output_type": "execute_result"
    }
   ],
   "source": [
    "response = with_message_history.invoke(\n",
    "    [HumanMessage(content=\"What's my name?\")],\n",
    "    config=config,\n",
    ")\n",
    "\n",
    "response.content"
   ]
  },
  {
   "cell_type": "code",
   "execution_count": 28,
   "metadata": {},
   "outputs": [],
   "source": [
    "## Add more complexity\n",
    "\n",
    "prompt = ChatPromptTemplate.from_messages(\n",
    "    [\n",
    "        (\n",
    "            \"system\",\n",
    "            \"You are a helpful assistant. Answer all questions to the best of your ability in {language}.\",\n",
    "        ),\n",
    "        MessagesPlaceholder(variable_name=\"messages\"),\n",
    "    ]\n",
    ")\n",
    "\n",
    "chain = prompt | model"
   ]
  },
  {
   "cell_type": "code",
   "execution_count": 30,
   "metadata": {},
   "outputs": [
    {
     "data": {
      "text/plain": [
       "\"Bonjour Sahu, enchanté de faire votre connaissance ! Comment puis-je vous aider aujourd'hui ? 😊  \\n\""
      ]
     },
     "execution_count": 30,
     "metadata": {},
     "output_type": "execute_result"
    }
   ],
   "source": [
    "response=chain.invoke({\"messages\":[HumanMessage(content=\"Hi My name is Sahu\")],\"language\":\"French\"})\n",
    "response.content"
   ]
  },
  {
   "cell_type": "markdown",
   "metadata": {},
   "source": [
    "Let's now wrap this more complicated chain in a Message History class. This time, because there are multiple keys in the input, we need to specify the correct key to use to save the chat history."
   ]
  },
  {
   "cell_type": "code",
   "execution_count": 31,
   "metadata": {},
   "outputs": [],
   "source": [
    "with_message_history=RunnableWithMessageHistory(\n",
    "    chain,\n",
    "    get_session_history, # A dict with a key for a BaseMessage or sequence of BaseMessages\n",
    "    input_messages_key=\"messages\" # Must be specified if the base runnable accepts a dict as input. Default is None.\n",
    ")"
   ]
  },
  {
   "cell_type": "code",
   "execution_count": 34,
   "metadata": {},
   "outputs": [
    {
     "name": "stdout",
     "output_type": "stream",
     "text": [
      "Store:  {'chat1': InMemoryChatMessageHistory(messages=[HumanMessage(content='Hi , My name is Sahu and I am a Chief AI Engineer'), AIMessage(content=\"Hello Sahu,\\n\\nIt's nice to meet you! Being a Chief AI Engineer is a fascinating role. What kind of projects are you currently working on? \\n\\nI'm eager to learn more about your work in the field of AI.\\n\", response_metadata={'token_usage': {'completion_tokens': 54, 'prompt_tokens': 28, 'total_tokens': 82, 'completion_time': 0.111580355, 'prompt_time': 0.00265645, 'queue_time': None, 'total_time': 0.11423680500000001}, 'model_name': 'Gemma2-9b-It', 'system_fingerprint': 'fp_10c08bf97d', 'finish_reason': 'stop', 'logprobs': None}, id='run-bed19a4c-7b27-4196-ba58-d590162dd53c-0', usage_metadata={'input_tokens': 28, 'output_tokens': 54, 'total_tokens': 82}), HumanMessage(content=\"What's my name?\"), AIMessage(content='Your name is Sahu. 😊  \\n\\nYou told me at the beginning of our conversation!  \\n\\nIs there anything else I can help you with?\\n', response_metadata={'token_usage': {'completion_tokens': 34, 'prompt_tokens': 96, 'total_tokens': 130, 'completion_time': 0.069427948, 'prompt_time': 0.004551999, 'queue_time': None, 'total_time': 0.073979947}, 'model_name': 'Gemma2-9b-It', 'system_fingerprint': 'fp_10c08bf97d', 'finish_reason': 'stop', 'logprobs': None}, id='run-9f735a24-8f85-402a-b001-9cd219e31e6e-0', usage_metadata={'input_tokens': 96, 'output_tokens': 34, 'total_tokens': 130}), HumanMessage(content=\"What's my job?\"), AIMessage(content='You said you are a Chief AI Engineer.  \\n\\nIs there anything else I can help you with regarding your work or anything else at all?\\n', response_metadata={'token_usage': {'completion_tokens': 32, 'prompt_tokens': 144, 'total_tokens': 176, 'completion_time': 0.06538629, 'prompt_time': 0.007101069, 'queue_time': None, 'total_time': 0.072487359}, 'model_name': 'Gemma2-9b-It', 'system_fingerprint': 'fp_10c08bf97d', 'finish_reason': 'stop', 'logprobs': None}, id='run-13ef99cd-521c-4233-b33e-d988434f4114-0', usage_metadata={'input_tokens': 144, 'output_tokens': 32, 'total_tokens': 176})]), 'chat2': InMemoryChatMessageHistory(messages=[HumanMessage(content='Whats my name'), AIMessage(content='As an AI, I have no memory of past conversations and do not know your name. Please tell me your name so I can address you properly.\\n', response_metadata={'token_usage': {'completion_tokens': 33, 'prompt_tokens': 17, 'total_tokens': 50, 'completion_time': 0.067334561, 'prompt_time': 0.00252252, 'queue_time': None, 'total_time': 0.069857081}, 'model_name': 'Gemma2-9b-It', 'system_fingerprint': 'fp_10c08bf97d', 'finish_reason': 'stop', 'logprobs': None}, id='run-e8da4bac-4f07-4623-88c5-0c7a2a7f237a-0', usage_metadata={'input_tokens': 17, 'output_tokens': 33, 'total_tokens': 50}), HumanMessage(content='Hey My name is Sahu'), AIMessage(content=\"Hello Sahu! It's nice to meet you. \\n\\nWhat can I do for you today? 😊  \\n\\n\", response_metadata={'token_usage': {'completion_tokens': 28, 'prompt_tokens': 64, 'total_tokens': 92, 'completion_time': 0.056971412, 'prompt_time': 0.00414934, 'queue_time': None, 'total_time': 0.061120752}, 'model_name': 'Gemma2-9b-It', 'system_fingerprint': 'fp_10c08bf97d', 'finish_reason': 'stop', 'logprobs': None}, id='run-52782e77-f8b8-464b-a172-629bde1ac35f-0', usage_metadata={'input_tokens': 64, 'output_tokens': 28, 'total_tokens': 92}), HumanMessage(content='Whats my name'), AIMessage(content='Your name is Sahu!  \\n\\nI remember that you told me earlier. 😄  How can I help you further?\\n', response_metadata={'token_usage': {'completion_tokens': 28, 'prompt_tokens': 102, 'total_tokens': 130, 'completion_time': 0.056770534, 'prompt_time': 0.005050849, 'queue_time': None, 'total_time': 0.061821382999999994}, 'model_name': 'Gemma2-9b-It', 'system_fingerprint': 'fp_10c08bf97d', 'finish_reason': 'stop', 'logprobs': None}, id='run-5ec1f1ce-ca48-4a31-a780-f126fa5fef34-0', usage_metadata={'input_tokens': 102, 'output_tokens': 28, 'total_tokens': 130})]), 'chat3': InMemoryChatMessageHistory(messages=[HumanMessage(content='Hi My name is Sahu'), AIMessage(content=\"Hello Sahu, it's nice to meet you! 👋\\n\\nIs there anything I can help you with today? 😊  \\n\\n\", response_metadata={'token_usage': {'completion_tokens': 30, 'prompt_tokens': 36, 'total_tokens': 66, 'completion_time': 0.060593562, 'prompt_time': 0.002587263, 'queue_time': None, 'total_time': 0.063180825}, 'model_name': 'Gemma2-9b-It', 'system_fingerprint': 'fp_10c08bf97d', 'finish_reason': 'stop', 'logprobs': None}, id='run-e87a44d4-4fc3-4e36-90b1-d5d0368c9b12-0', usage_metadata={'input_tokens': 36, 'output_tokens': 30, 'total_tokens': 66}), HumanMessage(content=\"What's my name?\"), AIMessage(content='Your name is Sahu.  😊 \\n\\nI remember!  How can I help you further?\\n', response_metadata={'token_usage': {'completion_tokens': 24, 'prompt_tokens': 79, 'total_tokens': 103, 'completion_time': 0.048036347, 'prompt_time': 0.004483498, 'queue_time': None, 'total_time': 0.052519845}, 'model_name': 'Gemma2-9b-It', 'system_fingerprint': 'fp_10c08bf97d', 'finish_reason': 'stop', 'logprobs': None}, id='run-80c205cb-1f0f-49d1-8ecc-afe5dc57b2b7-0', usage_metadata={'input_tokens': 79, 'output_tokens': 24, 'total_tokens': 103})]), 'chat4': InMemoryChatMessageHistory(messages=[HumanMessage(content='Hi,I am Sahu'), AIMessage(content='नमस्कार, साहू! मी तुमच्या मदतीसाठी येथे आहे. काय मदत करू शकतो? \\n', response_metadata={'token_usage': {'completion_tokens': 35, 'prompt_tokens': 38, 'total_tokens': 73, 'completion_time': 0.071320707, 'prompt_time': 0.002883445, 'queue_time': None, 'total_time': 0.074204152}, 'model_name': 'Gemma2-9b-It', 'system_fingerprint': 'fp_10c08bf97d', 'finish_reason': 'stop', 'logprobs': None}, id='run-f7196b67-2c95-4a68-8100-c3b834fb347f-0', usage_metadata={'input_tokens': 38, 'output_tokens': 35, 'total_tokens': 73}), HumanMessage(content='Hi,I am Sahu'), AIMessage(content='नमस्कार, साहू! 🎉 \\n\\nमी तुम्हाला मदत करण्यासाठी उत्सुक आहे. काय करू शकतो? 🤔\\n', response_metadata={'token_usage': {'completion_tokens': 40, 'prompt_tokens': 88, 'total_tokens': 128, 'completion_time': 0.082382122, 'prompt_time': 0.004691591, 'queue_time': None, 'total_time': 0.087073713}, 'model_name': 'Gemma2-9b-It', 'system_fingerprint': 'fp_10c08bf97d', 'finish_reason': 'stop', 'logprobs': None}, id='run-9bd66d71-9ff7-4170-9771-c552baaae77c-0', usage_metadata={'input_tokens': 88, 'output_tokens': 40, 'total_tokens': 128})])}\n"
     ]
    },
    {
     "name": "stderr",
     "output_type": "stream",
     "text": [
      "Error in RootListenersTracer.on_chain_end callback: ValueError()\n",
      "Error in callback coroutine: ValueError()\n"
     ]
    },
    {
     "data": {
      "text/plain": [
       "\"Bonjour Sahu !  Enchanté de faire votre connaissance. 😊 Comment puis-je vous aider aujourd'hui ? \\n\""
      ]
     },
     "execution_count": 34,
     "metadata": {},
     "output_type": "execute_result"
    }
   ],
   "source": [
    "config = {\"configurable\": {\"session_id\": \"chat4\"}}\n",
    "repsonse=with_message_history.invoke(\n",
    "    {'messages': [HumanMessage(content=\"Hi,I am Sahu\")],\"language\":\"French\"},\n",
    "    config=config\n",
    ")\n",
    "repsonse.content"
   ]
  },
  {
   "cell_type": "code",
   "execution_count": 36,
   "metadata": {},
   "outputs": [
    {
     "name": "stdout",
     "output_type": "stream",
     "text": [
      "Store:  {'chat1': InMemoryChatMessageHistory(messages=[HumanMessage(content='Hi , My name is Sahu and I am a Chief AI Engineer'), AIMessage(content=\"Hello Sahu,\\n\\nIt's nice to meet you! Being a Chief AI Engineer is a fascinating role. What kind of projects are you currently working on? \\n\\nI'm eager to learn more about your work in the field of AI.\\n\", response_metadata={'token_usage': {'completion_tokens': 54, 'prompt_tokens': 28, 'total_tokens': 82, 'completion_time': 0.111580355, 'prompt_time': 0.00265645, 'queue_time': None, 'total_time': 0.11423680500000001}, 'model_name': 'Gemma2-9b-It', 'system_fingerprint': 'fp_10c08bf97d', 'finish_reason': 'stop', 'logprobs': None}, id='run-bed19a4c-7b27-4196-ba58-d590162dd53c-0', usage_metadata={'input_tokens': 28, 'output_tokens': 54, 'total_tokens': 82}), HumanMessage(content=\"What's my name?\"), AIMessage(content='Your name is Sahu. 😊  \\n\\nYou told me at the beginning of our conversation!  \\n\\nIs there anything else I can help you with?\\n', response_metadata={'token_usage': {'completion_tokens': 34, 'prompt_tokens': 96, 'total_tokens': 130, 'completion_time': 0.069427948, 'prompt_time': 0.004551999, 'queue_time': None, 'total_time': 0.073979947}, 'model_name': 'Gemma2-9b-It', 'system_fingerprint': 'fp_10c08bf97d', 'finish_reason': 'stop', 'logprobs': None}, id='run-9f735a24-8f85-402a-b001-9cd219e31e6e-0', usage_metadata={'input_tokens': 96, 'output_tokens': 34, 'total_tokens': 130}), HumanMessage(content=\"What's my job?\"), AIMessage(content='You said you are a Chief AI Engineer.  \\n\\nIs there anything else I can help you with regarding your work or anything else at all?\\n', response_metadata={'token_usage': {'completion_tokens': 32, 'prompt_tokens': 144, 'total_tokens': 176, 'completion_time': 0.06538629, 'prompt_time': 0.007101069, 'queue_time': None, 'total_time': 0.072487359}, 'model_name': 'Gemma2-9b-It', 'system_fingerprint': 'fp_10c08bf97d', 'finish_reason': 'stop', 'logprobs': None}, id='run-13ef99cd-521c-4233-b33e-d988434f4114-0', usage_metadata={'input_tokens': 144, 'output_tokens': 32, 'total_tokens': 176})]), 'chat2': InMemoryChatMessageHistory(messages=[HumanMessage(content='Whats my name'), AIMessage(content='As an AI, I have no memory of past conversations and do not know your name. Please tell me your name so I can address you properly.\\n', response_metadata={'token_usage': {'completion_tokens': 33, 'prompt_tokens': 17, 'total_tokens': 50, 'completion_time': 0.067334561, 'prompt_time': 0.00252252, 'queue_time': None, 'total_time': 0.069857081}, 'model_name': 'Gemma2-9b-It', 'system_fingerprint': 'fp_10c08bf97d', 'finish_reason': 'stop', 'logprobs': None}, id='run-e8da4bac-4f07-4623-88c5-0c7a2a7f237a-0', usage_metadata={'input_tokens': 17, 'output_tokens': 33, 'total_tokens': 50}), HumanMessage(content='Hey My name is Sahu'), AIMessage(content=\"Hello Sahu! It's nice to meet you. \\n\\nWhat can I do for you today? 😊  \\n\\n\", response_metadata={'token_usage': {'completion_tokens': 28, 'prompt_tokens': 64, 'total_tokens': 92, 'completion_time': 0.056971412, 'prompt_time': 0.00414934, 'queue_time': None, 'total_time': 0.061120752}, 'model_name': 'Gemma2-9b-It', 'system_fingerprint': 'fp_10c08bf97d', 'finish_reason': 'stop', 'logprobs': None}, id='run-52782e77-f8b8-464b-a172-629bde1ac35f-0', usage_metadata={'input_tokens': 64, 'output_tokens': 28, 'total_tokens': 92}), HumanMessage(content='Whats my name'), AIMessage(content='Your name is Sahu!  \\n\\nI remember that you told me earlier. 😄  How can I help you further?\\n', response_metadata={'token_usage': {'completion_tokens': 28, 'prompt_tokens': 102, 'total_tokens': 130, 'completion_time': 0.056770534, 'prompt_time': 0.005050849, 'queue_time': None, 'total_time': 0.061821382999999994}, 'model_name': 'Gemma2-9b-It', 'system_fingerprint': 'fp_10c08bf97d', 'finish_reason': 'stop', 'logprobs': None}, id='run-5ec1f1ce-ca48-4a31-a780-f126fa5fef34-0', usage_metadata={'input_tokens': 102, 'output_tokens': 28, 'total_tokens': 130})]), 'chat3': InMemoryChatMessageHistory(messages=[HumanMessage(content='Hi My name is Sahu'), AIMessage(content=\"Hello Sahu, it's nice to meet you! 👋\\n\\nIs there anything I can help you with today? 😊  \\n\\n\", response_metadata={'token_usage': {'completion_tokens': 30, 'prompt_tokens': 36, 'total_tokens': 66, 'completion_time': 0.060593562, 'prompt_time': 0.002587263, 'queue_time': None, 'total_time': 0.063180825}, 'model_name': 'Gemma2-9b-It', 'system_fingerprint': 'fp_10c08bf97d', 'finish_reason': 'stop', 'logprobs': None}, id='run-e87a44d4-4fc3-4e36-90b1-d5d0368c9b12-0', usage_metadata={'input_tokens': 36, 'output_tokens': 30, 'total_tokens': 66}), HumanMessage(content=\"What's my name?\"), AIMessage(content='Your name is Sahu.  😊 \\n\\nI remember!  How can I help you further?\\n', response_metadata={'token_usage': {'completion_tokens': 24, 'prompt_tokens': 79, 'total_tokens': 103, 'completion_time': 0.048036347, 'prompt_time': 0.004483498, 'queue_time': None, 'total_time': 0.052519845}, 'model_name': 'Gemma2-9b-It', 'system_fingerprint': 'fp_10c08bf97d', 'finish_reason': 'stop', 'logprobs': None}, id='run-80c205cb-1f0f-49d1-8ecc-afe5dc57b2b7-0', usage_metadata={'input_tokens': 79, 'output_tokens': 24, 'total_tokens': 103})]), 'chat4': InMemoryChatMessageHistory(messages=[HumanMessage(content='Hi,I am Sahu'), AIMessage(content='नमस्कार, साहू! मी तुमच्या मदतीसाठी येथे आहे. काय मदत करू शकतो? \\n', response_metadata={'token_usage': {'completion_tokens': 35, 'prompt_tokens': 38, 'total_tokens': 73, 'completion_time': 0.071320707, 'prompt_time': 0.002883445, 'queue_time': None, 'total_time': 0.074204152}, 'model_name': 'Gemma2-9b-It', 'system_fingerprint': 'fp_10c08bf97d', 'finish_reason': 'stop', 'logprobs': None}, id='run-f7196b67-2c95-4a68-8100-c3b834fb347f-0', usage_metadata={'input_tokens': 38, 'output_tokens': 35, 'total_tokens': 73}), HumanMessage(content='Hi,I am Sahu'), AIMessage(content='नमस्कार, साहू! 🎉 \\n\\nमी तुम्हाला मदत करण्यासाठी उत्सुक आहे. काय करू शकतो? 🤔\\n', response_metadata={'token_usage': {'completion_tokens': 40, 'prompt_tokens': 88, 'total_tokens': 128, 'completion_time': 0.082382122, 'prompt_time': 0.004691591, 'queue_time': None, 'total_time': 0.087073713}, 'model_name': 'Gemma2-9b-It', 'system_fingerprint': 'fp_10c08bf97d', 'finish_reason': 'stop', 'logprobs': None}, id='run-9bd66d71-9ff7-4170-9771-c552baaae77c-0', usage_metadata={'input_tokens': 88, 'output_tokens': 40, 'total_tokens': 128}), HumanMessage(content='Hi,I am Sahu'), AIMessage(content=\"Bonjour Sahu !  Enchanté de faire votre connaissance. 😊 Comment puis-je vous aider aujourd'hui ? \\n\", response_metadata={'token_usage': {'completion_tokens': 27, 'prompt_tokens': 141, 'total_tokens': 168, 'completion_time': 0.054332064, 'prompt_time': 0.006700938, 'queue_time': None, 'total_time': 0.061033002}, 'model_name': 'Gemma2-9b-It', 'system_fingerprint': 'fp_10c08bf97d', 'finish_reason': 'stop', 'logprobs': None}, id='run-1f3360fc-4962-4339-8c31-9e6c9c698308-0', usage_metadata={'input_tokens': 141, 'output_tokens': 27, 'total_tokens': 168})])}\n"
     ]
    },
    {
     "name": "stderr",
     "output_type": "stream",
     "text": [
      "Error in RootListenersTracer.on_chain_end callback: ValueError()\n",
      "Error in callback coroutine: ValueError()\n"
     ]
    }
   ],
   "source": [
    "response = with_message_history.invoke(\n",
    "    {\"messages\": [HumanMessage(content=\"whats my name?\")], \"language\": \"Hindi\"},\n",
    "    config=config,\n",
    ")"
   ]
  },
  {
   "cell_type": "code",
   "execution_count": 37,
   "metadata": {},
   "outputs": [
    {
     "data": {
      "text/plain": [
       "'आपला नाव Sahu आहे.  \\n'"
      ]
     },
     "execution_count": 37,
     "metadata": {},
     "output_type": "execute_result"
    }
   ],
   "source": [
    "response.content"
   ]
  },
  {
   "cell_type": "code",
   "execution_count": 41,
   "metadata": {},
   "outputs": [
    {
     "data": {
      "text/plain": [
       "[HumanMessage(content='Hi,I am Sahu'),\n",
       " AIMessage(content='नमस्कार, साहू! मी तुमच्या मदतीसाठी येथे आहे. काय मदत करू शकतो? \\n', response_metadata={'token_usage': {'completion_tokens': 35, 'prompt_tokens': 38, 'total_tokens': 73, 'completion_time': 0.071320707, 'prompt_time': 0.002883445, 'queue_time': None, 'total_time': 0.074204152}, 'model_name': 'Gemma2-9b-It', 'system_fingerprint': 'fp_10c08bf97d', 'finish_reason': 'stop', 'logprobs': None}, id='run-f7196b67-2c95-4a68-8100-c3b834fb347f-0', usage_metadata={'input_tokens': 38, 'output_tokens': 35, 'total_tokens': 73}),\n",
       " HumanMessage(content='Hi,I am Sahu'),\n",
       " AIMessage(content='नमस्कार, साहू! 🎉 \\n\\nमी तुम्हाला मदत करण्यासाठी उत्सुक आहे. काय करू शकतो? 🤔\\n', response_metadata={'token_usage': {'completion_tokens': 40, 'prompt_tokens': 88, 'total_tokens': 128, 'completion_time': 0.082382122, 'prompt_time': 0.004691591, 'queue_time': None, 'total_time': 0.087073713}, 'model_name': 'Gemma2-9b-It', 'system_fingerprint': 'fp_10c08bf97d', 'finish_reason': 'stop', 'logprobs': None}, id='run-9bd66d71-9ff7-4170-9771-c552baaae77c-0', usage_metadata={'input_tokens': 88, 'output_tokens': 40, 'total_tokens': 128}),\n",
       " HumanMessage(content='Hi,I am Sahu'),\n",
       " AIMessage(content=\"Bonjour Sahu !  Enchanté de faire votre connaissance. 😊 Comment puis-je vous aider aujourd'hui ? \\n\", response_metadata={'token_usage': {'completion_tokens': 27, 'prompt_tokens': 141, 'total_tokens': 168, 'completion_time': 0.054332064, 'prompt_time': 0.006700938, 'queue_time': None, 'total_time': 0.061033002}, 'model_name': 'Gemma2-9b-It', 'system_fingerprint': 'fp_10c08bf97d', 'finish_reason': 'stop', 'logprobs': None}, id='run-1f3360fc-4962-4339-8c31-9e6c9c698308-0', usage_metadata={'input_tokens': 141, 'output_tokens': 27, 'total_tokens': 168}),\n",
       " HumanMessage(content='whats my name?'),\n",
       " AIMessage(content='आपला नाव Sahu आहे.  \\n', response_metadata={'token_usage': {'completion_tokens': 13, 'prompt_tokens': 180, 'total_tokens': 193, 'completion_time': 0.026, 'prompt_time': 0.011121322, 'queue_time': None, 'total_time': 0.037121322}, 'model_name': 'Gemma2-9b-It', 'system_fingerprint': 'fp_10c08bf97d', 'finish_reason': 'stop', 'logprobs': None}, id='run-1c3e6d4b-aecb-4637-b4b6-0aa7972d2fc0-0', usage_metadata={'input_tokens': 180, 'output_tokens': 13, 'total_tokens': 193})]"
      ]
     },
     "execution_count": 41,
     "metadata": {},
     "output_type": "execute_result"
    }
   ],
   "source": [
    "store['chat4'].messages"
   ]
  },
  {
   "cell_type": "markdown",
   "metadata": {},
   "source": [
    "### Managing the Conversation History\n",
    "One important concept to understand when building chatbots is how to manage conversation history. If left unmanaged, the list of messages will grow unbounded and potentially overflow the context window of the LLM. Therefore, it is important to add a step that limits the size of the messages you are passing in.\n",
    "\n",
    "`trim_messages` helper to reduce how many messages we're sending to the model. The trimmer allows us to specify how many tokens we want to keep, along with other parameters like if we want to always keep the system message and whether to allow partial messages"
   ]
  },
  {
   "cell_type": "code",
   "execution_count": 42,
   "metadata": {},
   "outputs": [],
   "source": [
    "from langchain_core.messages import SystemMessage,trim_messages"
   ]
  },
  {
   "cell_type": "code",
   "execution_count": 44,
   "metadata": {},
   "outputs": [
    {
     "name": "stderr",
     "output_type": "stream",
     "text": [
      "u:\\Langchain-repo\\.genai\\lib\\site-packages\\tqdm\\auto.py:21: TqdmWarning: IProgress not found. Please update jupyter and ipywidgets. See https://ipywidgets.readthedocs.io/en/stable/user_install.html\n",
      "  from .autonotebook import tqdm as notebook_tqdm\n",
      "None of PyTorch, TensorFlow >= 2.0, or Flax have been found. Models won't be available and only tokenizers, configuration and file/data utilities can be used.\n",
      "u:\\Langchain-repo\\.genai\\lib\\site-packages\\huggingface_hub\\file_download.py:159: UserWarning: `huggingface_hub` cache-system uses symlinks by default to efficiently store duplicated files but your machine does not support them in C:\\Users\\utkar\\.cache\\huggingface\\hub\\models--gpt2. Caching files will still work but in a degraded version that might require more space on your disk. This warning can be disabled by setting the `HF_HUB_DISABLE_SYMLINKS_WARNING` environment variable. For more details, see https://huggingface.co/docs/huggingface_hub/how-to-cache#limitations.\n",
      "To support symlinks on Windows, you either need to activate Developer Mode or to run Python as an administrator. In order to see activate developer mode, see this article: https://docs.microsoft.com/en-us/windows/apps/get-started/enable-your-device-for-development\n",
      "  warnings.warn(message)\n",
      "u:\\Langchain-repo\\.genai\\lib\\site-packages\\transformers\\tokenization_utils_base.py:1601: FutureWarning: `clean_up_tokenization_spaces` was not set. It will be set to `True` by default. This behavior will be depracted in transformers v4.45, and will be then set to `False` by default. For more details check this issue: https://github.com/huggingface/transformers/issues/31884\n",
      "  warnings.warn(\n"
     ]
    },
    {
     "data": {
      "text/plain": [
       "[SystemMessage(content=\"you're a good assistant\"),\n",
       " HumanMessage(content='I like vanilla ice cream'),\n",
       " AIMessage(content='nice'),\n",
       " HumanMessage(content='whats 2 + 2'),\n",
       " AIMessage(content='4'),\n",
       " HumanMessage(content='thanks'),\n",
       " AIMessage(content='no problem!'),\n",
       " HumanMessage(content='having fun?'),\n",
       " AIMessage(content='yes!')]"
      ]
     },
     "execution_count": 44,
     "metadata": {},
     "output_type": "execute_result"
    }
   ],
   "source": [
    "trimmer=trim_messages(\n",
    "    max_tokens=45,\n",
    "    strategy=\"last\",\n",
    "    token_counter=model,\n",
    "    include_system=True,\n",
    "    allow_partial=False,\n",
    "    start_on=\"human\"\n",
    ")\n",
    "messages = [\n",
    "    SystemMessage(content=\"you're a good assistant\"),\n",
    "    HumanMessage(content=\"hi! I'm bob\"),\n",
    "    AIMessage(content=\"hi!\"),\n",
    "    HumanMessage(content=\"I like vanilla ice cream\"),\n",
    "    AIMessage(content=\"nice\"),\n",
    "    HumanMessage(content=\"whats 2 + 2\"),\n",
    "    AIMessage(content=\"4\"),\n",
    "    HumanMessage(content=\"thanks\"),\n",
    "    AIMessage(content=\"no problem!\"),\n",
    "    HumanMessage(content=\"having fun?\"),\n",
    "    AIMessage(content=\"yes!\"),\n",
    "]\n",
    "trimmer.invoke(messages)"
   ]
  },
  {
   "cell_type": "code",
   "execution_count": 45,
   "metadata": {},
   "outputs": [
    {
     "data": {
      "text/plain": [
       "\"As a large language model, I don't have access to your personal information, including your ice cream preferences.\\n\\nWhat's your favorite flavor?  🍦\\n\""
      ]
     },
     "execution_count": 45,
     "metadata": {},
     "output_type": "execute_result"
    }
   ],
   "source": [
    "from operator import itemgetter\n",
    "\n",
    "from langchain_core.runnables import RunnablePassthrough\n",
    " \n",
    "chain=(\n",
    "    # Passing the trimmer func in the chain\n",
    "    RunnablePassthrough.assign(messages=itemgetter(\"messages\")|trimmer)\n",
    "    | prompt\n",
    "    | model\n",
    "    \n",
    ")\n",
    "\n",
    "response=chain.invoke(\n",
    "    {\n",
    "    \"messages\":messages + [HumanMessage(content=\"What ice cream do i like\")],\n",
    "    \"language\":\"English\"\n",
    "    }\n",
    ")\n",
    "response.content"
   ]
  },
  {
   "cell_type": "code",
   "execution_count": 46,
   "metadata": {},
   "outputs": [
    {
     "data": {
      "text/plain": [
       "'You asked \"What\\'s 2 + 2?\".  \\n\\n\\n\\n\\n'"
      ]
     },
     "execution_count": 46,
     "metadata": {},
     "output_type": "execute_result"
    }
   ],
   "source": [
    "response = chain.invoke(\n",
    "    {\n",
    "        \"messages\": messages + [HumanMessage(content=\"what math problem did i ask\")],\n",
    "        \"language\": \"English\",\n",
    "    }\n",
    ")\n",
    "response.content"
   ]
  },
  {
   "cell_type": "code",
   "execution_count": 47,
   "metadata": {},
   "outputs": [
    {
     "data": {
      "text/plain": [
       "RunnableAssign(mapper={\n",
       "  messages: RunnableLambda(itemgetter('messages'))\n",
       "            | RunnableLambda(...)\n",
       "})\n",
       "| ChatPromptTemplate(input_variables=['language', 'messages'], input_types={'messages': typing.List[typing.Union[langchain_core.messages.ai.AIMessage, langchain_core.messages.human.HumanMessage, langchain_core.messages.chat.ChatMessage, langchain_core.messages.system.SystemMessage, langchain_core.messages.function.FunctionMessage, langchain_core.messages.tool.ToolMessage]]}, messages=[SystemMessagePromptTemplate(prompt=PromptTemplate(input_variables=['language'], template='You are a helpful assistant. Answer all questions to the best of your ability in {language}.')), MessagesPlaceholder(variable_name='messages')])\n",
       "| ChatGroq(client=<groq.resources.chat.completions.Completions object at 0x0000026098EF2A40>, async_client=<groq.resources.chat.completions.AsyncCompletions object at 0x0000026098EF3700>, model_name='Gemma2-9b-It', groq_api_key=SecretStr('**********'))"
      ]
     },
     "execution_count": 47,
     "metadata": {},
     "output_type": "execute_result"
    }
   ],
   "source": [
    "chain"
   ]
  },
  {
   "cell_type": "code",
   "execution_count": 48,
   "metadata": {},
   "outputs": [],
   "source": [
    "## Lets wrap this in the MEssage History\n",
    "with_message_history = RunnableWithMessageHistory(\n",
    "    chain,\n",
    "    get_session_history,\n",
    "    input_messages_key=\"messages\",\n",
    ")\n",
    "config={\"configurable\":{\"session_id\":\"chat5\"}}"
   ]
  },
  {
   "cell_type": "code",
   "execution_count": 49,
   "metadata": {},
   "outputs": [
    {
     "name": "stdout",
     "output_type": "stream",
     "text": [
      "Store:  {'chat1': InMemoryChatMessageHistory(messages=[HumanMessage(content='Hi , My name is Sahu and I am a Chief AI Engineer'), AIMessage(content=\"Hello Sahu,\\n\\nIt's nice to meet you! Being a Chief AI Engineer is a fascinating role. What kind of projects are you currently working on? \\n\\nI'm eager to learn more about your work in the field of AI.\\n\", response_metadata={'token_usage': {'completion_tokens': 54, 'prompt_tokens': 28, 'total_tokens': 82, 'completion_time': 0.111580355, 'prompt_time': 0.00265645, 'queue_time': None, 'total_time': 0.11423680500000001}, 'model_name': 'Gemma2-9b-It', 'system_fingerprint': 'fp_10c08bf97d', 'finish_reason': 'stop', 'logprobs': None}, id='run-bed19a4c-7b27-4196-ba58-d590162dd53c-0', usage_metadata={'input_tokens': 28, 'output_tokens': 54, 'total_tokens': 82}), HumanMessage(content=\"What's my name?\"), AIMessage(content='Your name is Sahu. 😊  \\n\\nYou told me at the beginning of our conversation!  \\n\\nIs there anything else I can help you with?\\n', response_metadata={'token_usage': {'completion_tokens': 34, 'prompt_tokens': 96, 'total_tokens': 130, 'completion_time': 0.069427948, 'prompt_time': 0.004551999, 'queue_time': None, 'total_time': 0.073979947}, 'model_name': 'Gemma2-9b-It', 'system_fingerprint': 'fp_10c08bf97d', 'finish_reason': 'stop', 'logprobs': None}, id='run-9f735a24-8f85-402a-b001-9cd219e31e6e-0', usage_metadata={'input_tokens': 96, 'output_tokens': 34, 'total_tokens': 130}), HumanMessage(content=\"What's my job?\"), AIMessage(content='You said you are a Chief AI Engineer.  \\n\\nIs there anything else I can help you with regarding your work or anything else at all?\\n', response_metadata={'token_usage': {'completion_tokens': 32, 'prompt_tokens': 144, 'total_tokens': 176, 'completion_time': 0.06538629, 'prompt_time': 0.007101069, 'queue_time': None, 'total_time': 0.072487359}, 'model_name': 'Gemma2-9b-It', 'system_fingerprint': 'fp_10c08bf97d', 'finish_reason': 'stop', 'logprobs': None}, id='run-13ef99cd-521c-4233-b33e-d988434f4114-0', usage_metadata={'input_tokens': 144, 'output_tokens': 32, 'total_tokens': 176})]), 'chat2': InMemoryChatMessageHistory(messages=[HumanMessage(content='Whats my name'), AIMessage(content='As an AI, I have no memory of past conversations and do not know your name. Please tell me your name so I can address you properly.\\n', response_metadata={'token_usage': {'completion_tokens': 33, 'prompt_tokens': 17, 'total_tokens': 50, 'completion_time': 0.067334561, 'prompt_time': 0.00252252, 'queue_time': None, 'total_time': 0.069857081}, 'model_name': 'Gemma2-9b-It', 'system_fingerprint': 'fp_10c08bf97d', 'finish_reason': 'stop', 'logprobs': None}, id='run-e8da4bac-4f07-4623-88c5-0c7a2a7f237a-0', usage_metadata={'input_tokens': 17, 'output_tokens': 33, 'total_tokens': 50}), HumanMessage(content='Hey My name is Sahu'), AIMessage(content=\"Hello Sahu! It's nice to meet you. \\n\\nWhat can I do for you today? 😊  \\n\\n\", response_metadata={'token_usage': {'completion_tokens': 28, 'prompt_tokens': 64, 'total_tokens': 92, 'completion_time': 0.056971412, 'prompt_time': 0.00414934, 'queue_time': None, 'total_time': 0.061120752}, 'model_name': 'Gemma2-9b-It', 'system_fingerprint': 'fp_10c08bf97d', 'finish_reason': 'stop', 'logprobs': None}, id='run-52782e77-f8b8-464b-a172-629bde1ac35f-0', usage_metadata={'input_tokens': 64, 'output_tokens': 28, 'total_tokens': 92}), HumanMessage(content='Whats my name'), AIMessage(content='Your name is Sahu!  \\n\\nI remember that you told me earlier. 😄  How can I help you further?\\n', response_metadata={'token_usage': {'completion_tokens': 28, 'prompt_tokens': 102, 'total_tokens': 130, 'completion_time': 0.056770534, 'prompt_time': 0.005050849, 'queue_time': None, 'total_time': 0.061821382999999994}, 'model_name': 'Gemma2-9b-It', 'system_fingerprint': 'fp_10c08bf97d', 'finish_reason': 'stop', 'logprobs': None}, id='run-5ec1f1ce-ca48-4a31-a780-f126fa5fef34-0', usage_metadata={'input_tokens': 102, 'output_tokens': 28, 'total_tokens': 130})]), 'chat3': InMemoryChatMessageHistory(messages=[HumanMessage(content='Hi My name is Sahu'), AIMessage(content=\"Hello Sahu, it's nice to meet you! 👋\\n\\nIs there anything I can help you with today? 😊  \\n\\n\", response_metadata={'token_usage': {'completion_tokens': 30, 'prompt_tokens': 36, 'total_tokens': 66, 'completion_time': 0.060593562, 'prompt_time': 0.002587263, 'queue_time': None, 'total_time': 0.063180825}, 'model_name': 'Gemma2-9b-It', 'system_fingerprint': 'fp_10c08bf97d', 'finish_reason': 'stop', 'logprobs': None}, id='run-e87a44d4-4fc3-4e36-90b1-d5d0368c9b12-0', usage_metadata={'input_tokens': 36, 'output_tokens': 30, 'total_tokens': 66}), HumanMessage(content=\"What's my name?\"), AIMessage(content='Your name is Sahu.  😊 \\n\\nI remember!  How can I help you further?\\n', response_metadata={'token_usage': {'completion_tokens': 24, 'prompt_tokens': 79, 'total_tokens': 103, 'completion_time': 0.048036347, 'prompt_time': 0.004483498, 'queue_time': None, 'total_time': 0.052519845}, 'model_name': 'Gemma2-9b-It', 'system_fingerprint': 'fp_10c08bf97d', 'finish_reason': 'stop', 'logprobs': None}, id='run-80c205cb-1f0f-49d1-8ecc-afe5dc57b2b7-0', usage_metadata={'input_tokens': 79, 'output_tokens': 24, 'total_tokens': 103})]), 'chat4': InMemoryChatMessageHistory(messages=[HumanMessage(content='Hi,I am Sahu'), AIMessage(content='नमस्कार, साहू! मी तुमच्या मदतीसाठी येथे आहे. काय मदत करू शकतो? \\n', response_metadata={'token_usage': {'completion_tokens': 35, 'prompt_tokens': 38, 'total_tokens': 73, 'completion_time': 0.071320707, 'prompt_time': 0.002883445, 'queue_time': None, 'total_time': 0.074204152}, 'model_name': 'Gemma2-9b-It', 'system_fingerprint': 'fp_10c08bf97d', 'finish_reason': 'stop', 'logprobs': None}, id='run-f7196b67-2c95-4a68-8100-c3b834fb347f-0', usage_metadata={'input_tokens': 38, 'output_tokens': 35, 'total_tokens': 73}), HumanMessage(content='Hi,I am Sahu'), AIMessage(content='नमस्कार, साहू! 🎉 \\n\\nमी तुम्हाला मदत करण्यासाठी उत्सुक आहे. काय करू शकतो? 🤔\\n', response_metadata={'token_usage': {'completion_tokens': 40, 'prompt_tokens': 88, 'total_tokens': 128, 'completion_time': 0.082382122, 'prompt_time': 0.004691591, 'queue_time': None, 'total_time': 0.087073713}, 'model_name': 'Gemma2-9b-It', 'system_fingerprint': 'fp_10c08bf97d', 'finish_reason': 'stop', 'logprobs': None}, id='run-9bd66d71-9ff7-4170-9771-c552baaae77c-0', usage_metadata={'input_tokens': 88, 'output_tokens': 40, 'total_tokens': 128}), HumanMessage(content='Hi,I am Sahu'), AIMessage(content=\"Bonjour Sahu !  Enchanté de faire votre connaissance. 😊 Comment puis-je vous aider aujourd'hui ? \\n\", response_metadata={'token_usage': {'completion_tokens': 27, 'prompt_tokens': 141, 'total_tokens': 168, 'completion_time': 0.054332064, 'prompt_time': 0.006700938, 'queue_time': None, 'total_time': 0.061033002}, 'model_name': 'Gemma2-9b-It', 'system_fingerprint': 'fp_10c08bf97d', 'finish_reason': 'stop', 'logprobs': None}, id='run-1f3360fc-4962-4339-8c31-9e6c9c698308-0', usage_metadata={'input_tokens': 141, 'output_tokens': 27, 'total_tokens': 168}), HumanMessage(content='whats my name?'), AIMessage(content='आपला नाव Sahu आहे.  \\n', response_metadata={'token_usage': {'completion_tokens': 13, 'prompt_tokens': 180, 'total_tokens': 193, 'completion_time': 0.026, 'prompt_time': 0.011121322, 'queue_time': None, 'total_time': 0.037121322}, 'model_name': 'Gemma2-9b-It', 'system_fingerprint': 'fp_10c08bf97d', 'finish_reason': 'stop', 'logprobs': None}, id='run-1c3e6d4b-aecb-4637-b4b6-0aa7972d2fc0-0', usage_metadata={'input_tokens': 180, 'output_tokens': 13, 'total_tokens': 193})])}\n"
     ]
    },
    {
     "name": "stderr",
     "output_type": "stream",
     "text": [
      "Error in RootListenersTracer.on_chain_end callback: ValueError()\n",
      "Error in callback coroutine: ValueError()\n"
     ]
    },
    {
     "data": {
      "text/plain": [
       "\"I don't have access to any information about you, including your name. If you'd like to tell me, I'd be happy to know!\\n\""
      ]
     },
     "execution_count": 49,
     "metadata": {},
     "output_type": "execute_result"
    }
   ],
   "source": [
    "# This is checking it in the chat5 session_id which is empty\n",
    "response = with_message_history.invoke(\n",
    "    {\n",
    "        \"messages\": messages + [HumanMessage(content=\"whats my name?\")],\n",
    "        \"language\": \"English\",\n",
    "    },\n",
    "    config=config,\n",
    ")\n",
    "\n",
    "response.content"
   ]
  },
  {
   "cell_type": "code",
   "execution_count": 50,
   "metadata": {},
   "outputs": [
    {
     "name": "stderr",
     "output_type": "stream",
     "text": [
      "Error in RootListenersTracer.on_chain_end callback: ValueError()\n"
     ]
    },
    {
     "name": "stdout",
     "output_type": "stream",
     "text": [
      "Store:  {'chat1': InMemoryChatMessageHistory(messages=[HumanMessage(content='Hi , My name is Sahu and I am a Chief AI Engineer'), AIMessage(content=\"Hello Sahu,\\n\\nIt's nice to meet you! Being a Chief AI Engineer is a fascinating role. What kind of projects are you currently working on? \\n\\nI'm eager to learn more about your work in the field of AI.\\n\", response_metadata={'token_usage': {'completion_tokens': 54, 'prompt_tokens': 28, 'total_tokens': 82, 'completion_time': 0.111580355, 'prompt_time': 0.00265645, 'queue_time': None, 'total_time': 0.11423680500000001}, 'model_name': 'Gemma2-9b-It', 'system_fingerprint': 'fp_10c08bf97d', 'finish_reason': 'stop', 'logprobs': None}, id='run-bed19a4c-7b27-4196-ba58-d590162dd53c-0', usage_metadata={'input_tokens': 28, 'output_tokens': 54, 'total_tokens': 82}), HumanMessage(content=\"What's my name?\"), AIMessage(content='Your name is Sahu. 😊  \\n\\nYou told me at the beginning of our conversation!  \\n\\nIs there anything else I can help you with?\\n', response_metadata={'token_usage': {'completion_tokens': 34, 'prompt_tokens': 96, 'total_tokens': 130, 'completion_time': 0.069427948, 'prompt_time': 0.004551999, 'queue_time': None, 'total_time': 0.073979947}, 'model_name': 'Gemma2-9b-It', 'system_fingerprint': 'fp_10c08bf97d', 'finish_reason': 'stop', 'logprobs': None}, id='run-9f735a24-8f85-402a-b001-9cd219e31e6e-0', usage_metadata={'input_tokens': 96, 'output_tokens': 34, 'total_tokens': 130}), HumanMessage(content=\"What's my job?\"), AIMessage(content='You said you are a Chief AI Engineer.  \\n\\nIs there anything else I can help you with regarding your work or anything else at all?\\n', response_metadata={'token_usage': {'completion_tokens': 32, 'prompt_tokens': 144, 'total_tokens': 176, 'completion_time': 0.06538629, 'prompt_time': 0.007101069, 'queue_time': None, 'total_time': 0.072487359}, 'model_name': 'Gemma2-9b-It', 'system_fingerprint': 'fp_10c08bf97d', 'finish_reason': 'stop', 'logprobs': None}, id='run-13ef99cd-521c-4233-b33e-d988434f4114-0', usage_metadata={'input_tokens': 144, 'output_tokens': 32, 'total_tokens': 176})]), 'chat2': InMemoryChatMessageHistory(messages=[HumanMessage(content='Whats my name'), AIMessage(content='As an AI, I have no memory of past conversations and do not know your name. Please tell me your name so I can address you properly.\\n', response_metadata={'token_usage': {'completion_tokens': 33, 'prompt_tokens': 17, 'total_tokens': 50, 'completion_time': 0.067334561, 'prompt_time': 0.00252252, 'queue_time': None, 'total_time': 0.069857081}, 'model_name': 'Gemma2-9b-It', 'system_fingerprint': 'fp_10c08bf97d', 'finish_reason': 'stop', 'logprobs': None}, id='run-e8da4bac-4f07-4623-88c5-0c7a2a7f237a-0', usage_metadata={'input_tokens': 17, 'output_tokens': 33, 'total_tokens': 50}), HumanMessage(content='Hey My name is Sahu'), AIMessage(content=\"Hello Sahu! It's nice to meet you. \\n\\nWhat can I do for you today? 😊  \\n\\n\", response_metadata={'token_usage': {'completion_tokens': 28, 'prompt_tokens': 64, 'total_tokens': 92, 'completion_time': 0.056971412, 'prompt_time': 0.00414934, 'queue_time': None, 'total_time': 0.061120752}, 'model_name': 'Gemma2-9b-It', 'system_fingerprint': 'fp_10c08bf97d', 'finish_reason': 'stop', 'logprobs': None}, id='run-52782e77-f8b8-464b-a172-629bde1ac35f-0', usage_metadata={'input_tokens': 64, 'output_tokens': 28, 'total_tokens': 92}), HumanMessage(content='Whats my name'), AIMessage(content='Your name is Sahu!  \\n\\nI remember that you told me earlier. 😄  How can I help you further?\\n', response_metadata={'token_usage': {'completion_tokens': 28, 'prompt_tokens': 102, 'total_tokens': 130, 'completion_time': 0.056770534, 'prompt_time': 0.005050849, 'queue_time': None, 'total_time': 0.061821382999999994}, 'model_name': 'Gemma2-9b-It', 'system_fingerprint': 'fp_10c08bf97d', 'finish_reason': 'stop', 'logprobs': None}, id='run-5ec1f1ce-ca48-4a31-a780-f126fa5fef34-0', usage_metadata={'input_tokens': 102, 'output_tokens': 28, 'total_tokens': 130})]), 'chat3': InMemoryChatMessageHistory(messages=[HumanMessage(content='Hi My name is Sahu'), AIMessage(content=\"Hello Sahu, it's nice to meet you! 👋\\n\\nIs there anything I can help you with today? 😊  \\n\\n\", response_metadata={'token_usage': {'completion_tokens': 30, 'prompt_tokens': 36, 'total_tokens': 66, 'completion_time': 0.060593562, 'prompt_time': 0.002587263, 'queue_time': None, 'total_time': 0.063180825}, 'model_name': 'Gemma2-9b-It', 'system_fingerprint': 'fp_10c08bf97d', 'finish_reason': 'stop', 'logprobs': None}, id='run-e87a44d4-4fc3-4e36-90b1-d5d0368c9b12-0', usage_metadata={'input_tokens': 36, 'output_tokens': 30, 'total_tokens': 66}), HumanMessage(content=\"What's my name?\"), AIMessage(content='Your name is Sahu.  😊 \\n\\nI remember!  How can I help you further?\\n', response_metadata={'token_usage': {'completion_tokens': 24, 'prompt_tokens': 79, 'total_tokens': 103, 'completion_time': 0.048036347, 'prompt_time': 0.004483498, 'queue_time': None, 'total_time': 0.052519845}, 'model_name': 'Gemma2-9b-It', 'system_fingerprint': 'fp_10c08bf97d', 'finish_reason': 'stop', 'logprobs': None}, id='run-80c205cb-1f0f-49d1-8ecc-afe5dc57b2b7-0', usage_metadata={'input_tokens': 79, 'output_tokens': 24, 'total_tokens': 103})]), 'chat4': InMemoryChatMessageHistory(messages=[HumanMessage(content='Hi,I am Sahu'), AIMessage(content='नमस्कार, साहू! मी तुमच्या मदतीसाठी येथे आहे. काय मदत करू शकतो? \\n', response_metadata={'token_usage': {'completion_tokens': 35, 'prompt_tokens': 38, 'total_tokens': 73, 'completion_time': 0.071320707, 'prompt_time': 0.002883445, 'queue_time': None, 'total_time': 0.074204152}, 'model_name': 'Gemma2-9b-It', 'system_fingerprint': 'fp_10c08bf97d', 'finish_reason': 'stop', 'logprobs': None}, id='run-f7196b67-2c95-4a68-8100-c3b834fb347f-0', usage_metadata={'input_tokens': 38, 'output_tokens': 35, 'total_tokens': 73}), HumanMessage(content='Hi,I am Sahu'), AIMessage(content='नमस्कार, साहू! 🎉 \\n\\nमी तुम्हाला मदत करण्यासाठी उत्सुक आहे. काय करू शकतो? 🤔\\n', response_metadata={'token_usage': {'completion_tokens': 40, 'prompt_tokens': 88, 'total_tokens': 128, 'completion_time': 0.082382122, 'prompt_time': 0.004691591, 'queue_time': None, 'total_time': 0.087073713}, 'model_name': 'Gemma2-9b-It', 'system_fingerprint': 'fp_10c08bf97d', 'finish_reason': 'stop', 'logprobs': None}, id='run-9bd66d71-9ff7-4170-9771-c552baaae77c-0', usage_metadata={'input_tokens': 88, 'output_tokens': 40, 'total_tokens': 128}), HumanMessage(content='Hi,I am Sahu'), AIMessage(content=\"Bonjour Sahu !  Enchanté de faire votre connaissance. 😊 Comment puis-je vous aider aujourd'hui ? \\n\", response_metadata={'token_usage': {'completion_tokens': 27, 'prompt_tokens': 141, 'total_tokens': 168, 'completion_time': 0.054332064, 'prompt_time': 0.006700938, 'queue_time': None, 'total_time': 0.061033002}, 'model_name': 'Gemma2-9b-It', 'system_fingerprint': 'fp_10c08bf97d', 'finish_reason': 'stop', 'logprobs': None}, id='run-1f3360fc-4962-4339-8c31-9e6c9c698308-0', usage_metadata={'input_tokens': 141, 'output_tokens': 27, 'total_tokens': 168}), HumanMessage(content='whats my name?'), AIMessage(content='आपला नाव Sahu आहे.  \\n', response_metadata={'token_usage': {'completion_tokens': 13, 'prompt_tokens': 180, 'total_tokens': 193, 'completion_time': 0.026, 'prompt_time': 0.011121322, 'queue_time': None, 'total_time': 0.037121322}, 'model_name': 'Gemma2-9b-It', 'system_fingerprint': 'fp_10c08bf97d', 'finish_reason': 'stop', 'logprobs': None}, id='run-1c3e6d4b-aecb-4637-b4b6-0aa7972d2fc0-0', usage_metadata={'input_tokens': 180, 'output_tokens': 13, 'total_tokens': 193})]), 'chat5': InMemoryChatMessageHistory(messages=[SystemMessage(content=\"you're a good assistant\"), HumanMessage(content=\"hi! I'm bob\"), AIMessage(content='hi!'), HumanMessage(content='I like vanilla ice cream'), AIMessage(content='nice'), HumanMessage(content='whats 2 + 2'), AIMessage(content='4'), HumanMessage(content='thanks'), AIMessage(content='no problem!'), HumanMessage(content='having fun?'), AIMessage(content='yes!'), HumanMessage(content='whats my name?'), AIMessage(content=\"I don't have access to any information about you, including your name. If you'd like to tell me, I'd be happy to know!\\n\", response_metadata={'token_usage': {'completion_tokens': 36, 'prompt_tokens': 89, 'total_tokens': 125, 'completion_time': 0.073370003, 'prompt_time': 0.006135986, 'queue_time': None, 'total_time': 0.079505989}, 'model_name': 'Gemma2-9b-It', 'system_fingerprint': 'fp_10c08bf97d', 'finish_reason': 'stop', 'logprobs': None}, id='run-002c66aa-b59e-4035-b84a-62a78373778c-0', usage_metadata={'input_tokens': 89, 'output_tokens': 36, 'total_tokens': 125})])}\n"
     ]
    },
    {
     "name": "stderr",
     "output_type": "stream",
     "text": [
      "Error in callback coroutine: ValueError()\n"
     ]
    },
    {
     "data": {
      "text/plain": [
       "\"As a large language model, I have no memory of past conversations. If you'd like to ask me a math problem, I'm happy to help! 😊  Just let me know what it is. \\n\\n\""
      ]
     },
     "execution_count": 50,
     "metadata": {},
     "output_type": "execute_result"
    }
   ],
   "source": [
    "response = with_message_history.invoke(\n",
    "    {\n",
    "        \"messages\": [HumanMessage(content=\"what math problem did i ask?\")],\n",
    "        \"language\": \"English\",\n",
    "    },\n",
    "    config=config,\n",
    ")\n",
    "\n",
    "response.content"
   ]
  },
  {
   "cell_type": "code",
   "execution_count": null,
   "metadata": {},
   "outputs": [],
   "source": []
  }
 ],
 "metadata": {
  "kernelspec": {
   "display_name": "Python 3",
   "language": "python",
   "name": "python3"
  },
  "language_info": {
   "codemirror_mode": {
    "name": "ipython",
    "version": 3
   },
   "file_extension": ".py",
   "mimetype": "text/x-python",
   "name": "python",
   "nbconvert_exporter": "python",
   "pygments_lexer": "ipython3",
   "version": "3.10.1"
  }
 },
 "nbformat": 4,
 "nbformat_minor": 2
}
