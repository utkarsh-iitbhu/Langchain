{
 "cells": [
  {
   "cell_type": "markdown",
   "metadata": {},
   "source": [
    "#### Getting started With Langchain And Open AI\n",
    "\n",
    "In this quickstart we'll see how to:\n",
    "\n",
    "- Get setup with LangChain, LangSmith and LangServe\n",
    "- Use the most basic and common components of LangChain: prompt templates, models, and output parsers.\n",
    "- Build a simple application with LangChain\n",
    "- Trace your application with LangSmith\n",
    "- Serve your application with LangServe"
   ]
  },
  {
   "cell_type": "code",
   "execution_count": 1,
   "metadata": {},
   "outputs": [
    {
     "data": {
      "text/plain": [
       "10"
      ]
     },
     "execution_count": 1,
     "metadata": {},
     "output_type": "execute_result"
    }
   ],
   "source": [
    "5+5"
   ]
  },
  {
   "cell_type": "code",
   "execution_count": 2,
   "metadata": {},
   "outputs": [],
   "source": [
    "import os\n",
    "from dotenv import load_dotenv\n",
    "load_dotenv()\n",
    "\n",
    "os.environ['OPENAI_API_KEY']=os.getenv(\"OPENAI_API_KEY\")\n",
    "## Langsmith Tracking\n",
    "os.environ[\"LANGCHAIN_API_KEY\"]=os.getenv(\"LANGCHAIN_API_KEY\")\n",
    "os.environ[\"LANGCHAIN_TRACING_V2\"]=\"true\"\n",
    "os.environ[\"LANGCHAIN_PROJECT\"]=os.getenv(\"LANGCHAIN_PROJECT\")"
   ]
  },
  {
   "cell_type": "code",
   "execution_count": 4,
   "metadata": {},
   "outputs": [
    {
     "name": "stdout",
     "output_type": "stream",
     "text": [
      "client=<openai.resources.chat.completions.Completions object at 0x00000227D2C5A6B0> async_client=<openai.resources.chat.completions.AsyncCompletions object at 0x00000227D2C5A020> root_client=<openai.OpenAI object at 0x00000227D2C59DB0> root_async_client=<openai.AsyncOpenAI object at 0x00000227D2C5A680> openai_api_key=SecretStr('**********') openai_proxy=''\n"
     ]
    }
   ],
   "source": [
    "from langchain_openai import ChatOpenAI\n",
    "llm=ChatOpenAI(model=\"gpt-3.5-turbo\")\n",
    "print(llm)"
   ]
  },
  {
   "cell_type": "code",
   "execution_count": 5,
   "metadata": {},
   "outputs": [],
   "source": [
    "## Input and get response form LLM\n",
    "\n",
    "result=llm.invoke(\"Where is One Piece?\")"
   ]
  },
  {
   "cell_type": "code",
   "execution_count": 6,
   "metadata": {},
   "outputs": [
    {
     "name": "stdout",
     "output_type": "stream",
     "text": [
      "content='One Piece is a popular Japanese manga and anime series created by Eiichiro Oda. The story is set in a fictional world where pirates roam the seas in search of a legendary treasure known as the One Piece. The main character, Monkey D. Luffy, sets out on a journey to find the One Piece and become the Pirate King. The series is currently ongoing and has been serialized in Weekly Shonen Jump since 1997.' additional_kwargs={'refusal': None} response_metadata={'token_usage': {'completion_tokens': 89, 'prompt_tokens': 12, 'total_tokens': 101}, 'model_name': 'gpt-3.5-turbo-0125', 'system_fingerprint': None, 'finish_reason': 'stop', 'logprobs': None} id='run-76f78cad-25ab-473d-9f3a-25c0af8161ee-0' usage_metadata={'input_tokens': 12, 'output_tokens': 89, 'total_tokens': 101}\n"
     ]
    }
   ],
   "source": [
    "print(result)"
   ]
  },
  {
   "cell_type": "code",
   "execution_count": 8,
   "metadata": {},
   "outputs": [],
   "source": [
    "### Chatprompt Template\n",
    "from langchain_core.prompts import ChatPromptTemplate\n"
   ]
  },
  {
   "cell_type": "code",
   "execution_count": 9,
   "metadata": {},
   "outputs": [
    {
     "data": {
      "text/plain": [
       "ChatPromptTemplate(input_variables=['input'], messages=[SystemMessagePromptTemplate(prompt=PromptTemplate(input_variables=[], template='You are an expert anime weeb. Provide me answers based on the questions')), HumanMessagePromptTemplate(prompt=PromptTemplate(input_variables=['input'], template='{input}'))])"
      ]
     },
     "execution_count": 9,
     "metadata": {},
     "output_type": "execute_result"
    }
   ],
   "source": [
    "\n",
    "prompt=ChatPromptTemplate.from_messages(\n",
    "    [\n",
    "        (\"system\",\"You are an expert anime weeb. Provide me answers based on the questions\"),\n",
    "        (\"user\",\"{input}\")\n",
    "    ]\n",
    "\n",
    ")\n",
    "prompt"
   ]
  },
  {
   "cell_type": "code",
   "execution_count": 12,
   "metadata": {},
   "outputs": [
    {
     "name": "stdout",
     "output_type": "stream",
     "text": [
      "content='The treasure of One Piece is known as the \"One Piece\" itself. It is said to be a vast fortune accumulated by the legendary Pirate King, Gol D. Roger, and hidden somewhere in the Grand Line. Finding the One Piece is the ultimate goal of the main protagonist, Monkey D. Luffy, and his crew in the anime and manga series \"One Piece.\"' additional_kwargs={'refusal': None} response_metadata={'token_usage': {'completion_tokens': 75, 'prompt_tokens': 37, 'total_tokens': 112}, 'model_name': 'gpt-3.5-turbo-0125', 'system_fingerprint': None, 'finish_reason': 'stop', 'logprobs': None} id='run-c3cf79f6-b19f-4b9a-a89b-61f7fd1dce3d-0' usage_metadata={'input_tokens': 37, 'output_tokens': 75, 'total_tokens': 112}\n"
     ]
    }
   ],
   "source": [
    "## chain is made up of prompt and llm using |\n",
    "chain=prompt|llm\n",
    "\n",
    "response=chain.invoke({\"input\":\"Tell me about what is the treasure of One Piece?\"})\n",
    "print(response)"
   ]
  },
  {
   "cell_type": "code",
   "execution_count": 13,
   "metadata": {},
   "outputs": [
    {
     "data": {
      "text/plain": [
       "langchain_core.messages.ai.AIMessage"
      ]
     },
     "execution_count": 13,
     "metadata": {},
     "output_type": "execute_result"
    }
   ],
   "source": [
    "type(response)"
   ]
  },
  {
   "cell_type": "code",
   "execution_count": 14,
   "metadata": {},
   "outputs": [
    {
     "name": "stdout",
     "output_type": "stream",
     "text": [
      "Sure! Here are some of the latest awesome thrillers and mystery anime series that you might enjoy:\n",
      "\n",
      "1. \"The Promised Neverland\" - Follows the story of a group of children trying to escape from an orphanage after discovering a dark secret.\n",
      "\n",
      "2. \"Erased\" - A young man with the ability to go back in time tries to prevent a series of murders from happening.\n",
      "\n",
      "3. \"ID: INVADED\" - In a world where detectives enter the minds of serial killers to solve cases, a mysterious detective with no memory tries to unravel the truth behind his own past.\n",
      "\n",
      "4. \"Babylon\" - Follows the story of a prosecutor investigating a series of political and moral dilemmas that lead to a conspiracy.\n",
      "\n",
      "5. \"Gleipnir\" - A high school student discovers he can transform into a powerful monster and gets involved in a dangerous game of survival.\n",
      "\n",
      "These anime series are known for their gripping storytelling, suspenseful plot twists, and intriguing mysteries. Enjoy watching!\n"
     ]
    }
   ],
   "source": [
    "## stroutput Parser\n",
    "# Outputs the response as a string\n",
    "from langchain_core.output_parsers import StrOutputParser\n",
    "output_parser=StrOutputParser() # For output \n",
    "chain=prompt|llm|output_parser # Creating a chain\n",
    "\n",
    "response=chain.invoke({\"input\":\"Can you tell me some latest awesome thrillers, mystery anime?\"})\n",
    "print(response)"
   ]
  }
 ],
 "metadata": {
  "kernelspec": {
   "display_name": "Python 3",
   "language": "python",
   "name": "python3"
  },
  "language_info": {
   "codemirror_mode": {
    "name": "ipython",
    "version": 3
   },
   "file_extension": ".py",
   "mimetype": "text/x-python",
   "name": "python",
   "nbconvert_exporter": "python",
   "pygments_lexer": "ipython3",
   "version": "3.10.1"
  }
 },
 "nbformat": 4,
 "nbformat_minor": 2
}
